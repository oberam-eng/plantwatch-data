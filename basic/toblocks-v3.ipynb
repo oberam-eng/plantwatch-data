{
 "cells": [
  {
   "cell_type": "code",
   "execution_count": 201,
   "metadata": {},
   "outputs": [],
   "source": [
    "import pandas as pd\n",
    "from scipy import stats\n",
    "import numpy as np\n",
    "from pandas.api.types import CategoricalDtype\n",
    "import re"
   ]
  },
  {
   "cell_type": "code",
   "execution_count": 202,
   "metadata": {},
   "outputs": [],
   "source": [
    "pl0 = pd.read_csv(\"../Kraftwerksliste_2020.csv\", error_bad_lines=False, engine=\"python\", encoding=\"latin1\", sep=\";\", skiprows=9)\n",
    "#pl0 = pd.read_csv(\"Kraftwerksliste_CSV.csv\", error_bad_lines=False, engine=\"python\")\n",
    "bm = pd.read_csv(\"block_plant_mapper.csv\", error_bad_lines=False, engine=\"python\")"
   ]
  },
  {
   "cell_type": "code",
   "execution_count": 203,
   "metadata": {},
   "outputs": [],
   "source": [
    "pl0.rename(columns={ pl0.columns[10]: \"Energieträger_old\", pl0.columns[13]: \"Energieträger\"}, inplace=True)"
   ]
  },
  {
   "cell_type": "code",
   "execution_count": 59,
   "metadata": {},
   "outputs": [],
   "source": [
    "#pl0"
   ]
  },
  {
   "cell_type": "code",
   "execution_count": 60,
   "metadata": {},
   "outputs": [],
   "source": [
    "#bm"
   ]
  },
  {
   "cell_type": "code",
   "execution_count": 61,
   "metadata": {},
   "outputs": [],
   "source": [
    "#pl0.groupby(\"Energieträger\").count()"
   ]
  },
  {
   "cell_type": "code",
   "execution_count": 62,
   "metadata": {},
   "outputs": [],
   "source": [
    "#bm\n",
    "pl1 = pl0.loc[np.logical_or(pl0.Energieträger == \"Kernenergie\", np.logical_or(pl0.Energieträger == \"Erdgas\", np.logical_or(pl0.Energieträger == \"Steinkohle\", np.logical_or(pl0.Energieträger == \"Braunkohle\", pl0.Energieträger == \"Mineralölprodukte\")))), :]"
   ]
  },
  {
   "cell_type": "code",
   "execution_count": 63,
   "metadata": {},
   "outputs": [],
   "source": [
    "plt = pl1.dropna(subset=[\"Kraftwerksnummer Bundesnetzagentur\"])"
   ]
  },
  {
   "cell_type": "code",
   "execution_count": 64,
   "metadata": {},
   "outputs": [],
   "source": [
    "plt = plt.astype({\"Energieträger\": 'category'})"
   ]
  },
  {
   "cell_type": "code",
   "execution_count": 65,
   "metadata": {},
   "outputs": [],
   "source": [
    "#plt[\"Energieträger\"] = plt[\"Energieträger\"].astype('category')\n",
    "#plt[\"Energieträger\"] = plt[\"Energieträger\"].cat.set_categories([\"Kernenergie\", \"Braunkohle\", \"Steinkohle\", \"Erdgas\", \"Mineralölprodukte\"], ordered=True)"
   ]
  },
  {
   "cell_type": "code",
   "execution_count": 66,
   "metadata": {},
   "outputs": [],
   "source": [
    "#plt[\"Energieträger\"] = plt[\"Energieträger\"].astype('category')"
   ]
  },
  {
   "cell_type": "code",
   "execution_count": 67,
   "metadata": {},
   "outputs": [],
   "source": [
    "#plt.groupby('Energieträger').count()"
   ]
  },
  {
   "cell_type": "code",
   "execution_count": 68,
   "metadata": {},
   "outputs": [],
   "source": [
    "pl2 = plt.loc[:]"
   ]
  },
  {
   "cell_type": "code",
   "execution_count": 69,
   "metadata": {},
   "outputs": [],
   "source": [
    "#pl2.groupby(\"Energieträger\").count()"
   ]
  },
  {
   "cell_type": "code",
   "execution_count": 70,
   "metadata": {},
   "outputs": [],
   "source": [
    "# plt.dtypes"
   ]
  },
  {
   "cell_type": "code",
   "execution_count": 71,
   "metadata": {},
   "outputs": [],
   "source": [
    "pl2 = plt.rename(columns={ pl1.columns[0]: \"blockid\", pl1.columns[3]: \"PLZ\", pl1.columns[4]: \"Ort\", pl1.columns[8]: \"Inbetriebnahme\", pl1.columns[9]: \"Status\", pl1.columns[15]: \"KWK\", pl1.columns[16]: \"Nettoleistung\"})\n",
    "#pl3 = pl2.rename(columns={ pl1.columns[1]: \"BlockID\" })"
   ]
  },
  {
   "cell_type": "code",
   "execution_count": 72,
   "metadata": {},
   "outputs": [],
   "source": [
    "def to_year(x):\n",
    "    if type(x) == type(4):\n",
    "        return x\n",
    "    elif type(x) == type(2.5):\n",
    "        return 0 # handle nans\n",
    "    return int(x[-4:])"
   ]
  },
  {
   "cell_type": "code",
   "execution_count": 73,
   "metadata": {},
   "outputs": [],
   "source": [
    "#blocks.loc[blocks.Energieträger == \"Kernenergie\"]"
   ]
  },
  {
   "cell_type": "code",
   "execution_count": 74,
   "metadata": {},
   "outputs": [],
   "source": [
    "pl2['Nettoleistung'] = pl2['Nettoleistung'].str.replace('.','')\n",
    "pl2['Nettoleistung'] = pl2['Nettoleistung'].str.replace(',','.')\n",
    "pl2.loc[pl2.blockid == 'BNA0861a', 'Inbetriebnahme'] = 2012\n",
    "pl2.loc[pl2.blockid == 'BNA1334', 'Inbetriebnahme'] = 2002\n",
    "pl2.loc[pl2.blockid == 'BNA1141', 'Inbetriebnahme'] = 1970\n",
    "pl2.loc[pl2.blockid == 'BNA0418', 'Inbetriebnahme'] = 2013\n",
    "pl2.loc[pl2.blockid == 'BNA1499', 'Inbetriebnahme'] = 1951\n",
    "pl2.loc[pl2.blockid == 'BNA1502', 'Inbetriebnahme'] = 2013\n",
    "pl2.loc[pl2.blockid == 'BNA1500', 'Inbetriebnahme'] = 1990\n",
    "pl2.loc[pl2.blockid == 'BNA1498', 'Inbetriebnahme'] = 1953\n",
    "pl2.loc[pl2.blockid == 'BNA1260', 'Inbetriebnahme'] = 2013\n",
    "pl2.loc[pl2.blockid == 'BNA1056', 'Inbetriebnahme'] = 2006\n",
    "\n",
    "\n",
    "#pl2['Nettoleistung'] = pl2['Nettoleistung'].str.replace('\\n','')\n",
    "#pl2['Nettoleistung'] = pl2[pd.to_numeric(pl2[\"Nettoleistung\"])]\n",
    "#pl2['Nettoleistung'] = pl2['Nettoleistung'].str.replace(';','.')"
   ]
  },
  {
   "cell_type": "code",
   "execution_count": 75,
   "metadata": {},
   "outputs": [],
   "source": [
    "#pl2[] = pl2[pd.to_numeric(pl2[\"Nettoleistung\"])]\n",
    "pl2['Inbetriebnahme'] = pl2['Inbetriebnahme'].apply(to_year)\n",
    "pl2['Nettoleistung'] = pl2['Nettoleistung'].apply(pd.to_numeric)"
   ]
  },
  {
   "cell_type": "code",
   "execution_count": 76,
   "metadata": {},
   "outputs": [],
   "source": [
    "#bm[pl2.duplicated(['BlockID'], keep=False)].sort_values(\"BlockID\", ascending=False)"
   ]
  },
  {
   "cell_type": "code",
   "execution_count": 157,
   "metadata": {},
   "outputs": [],
   "source": [
    "#pl2[pl2.duplicated(['blockid'], keep=False)].sort_values(\"blockid\", ascending=False)"
   ]
  },
  {
   "cell_type": "code",
   "execution_count": 169,
   "metadata": {},
   "outputs": [],
   "source": [
    "cols = [10, 11,12,14,17,18,19]\n",
    "pl3 = pl2.drop(pl2.columns[cols],axis=1)"
   ]
  },
  {
   "cell_type": "code",
   "execution_count": 177,
   "metadata": {},
   "outputs": [],
   "source": [
    "#pl3.groupby('Unternehmen').max()"
   ]
  },
  {
   "cell_type": "code",
   "execution_count": 170,
   "metadata": {},
   "outputs": [],
   "source": [
    "pl4 = pl3.copy()"
   ]
  },
  {
   "cell_type": "code",
   "execution_count": 180,
   "metadata": {},
   "outputs": [],
   "source": [
    "def fix_company2(company):\n",
    "    #print(company)\n",
    "    company_dict = {\"RWE\": \"RWE AG\", \"Vattenfall\": \"Vattenfall GmbH\", \"Uniper\": \"Uniper SE\", \"EnBW\": \"EnBW AG\", \"Steag\": \"Steag GmbH\", \"Nordzucker\": \"Nordzucker AG\", \"Lausitz Energie\": \"LEAG\"}\n",
    "    for key, value in company_dict.items():\n",
    "        if key in str(company):\n",
    "            return value\n",
    "    return company"
   ]
  },
  {
   "cell_type": "code",
   "execution_count": 195,
   "metadata": {},
   "outputs": [],
   "source": [
    "z = \"endgülti2018\""
   ]
  },
  {
   "cell_type": "code",
   "execution_count": 198,
   "metadata": {},
   "outputs": [],
   "source": [
    "def extract_still(x):\n",
    "    match = re.findall(\"[0-9]{4}\",x)\n",
    "    return match[0] if match else np.nan"
   ]
  },
  {
   "cell_type": "code",
   "execution_count": null,
   "metadata": {},
   "outputs": [],
   "source": []
  },
  {
   "cell_type": "code",
   "execution_count": 199,
   "metadata": {},
   "outputs": [
    {
     "data": {
      "text/plain": [
       "'2018'"
      ]
     },
     "execution_count": 199,
     "metadata": {},
     "output_type": "execute_result"
    }
   ],
   "source": [
    "extract_still(z)"
   ]
  },
  {
   "cell_type": "code",
   "execution_count": 189,
   "metadata": {},
   "outputs": [],
   "source": [
    "#pl4 = pl3.ap"
   ]
  },
  {
   "cell_type": "code",
   "execution_count": 200,
   "metadata": {},
   "outputs": [],
   "source": [
    "pl4['Unternehmen'] = pl4['Unternehmen'].apply(lambda x: fix_company2(x))\n",
    "pl4['Stilllegung'] = pl4['Status'].apply(lambda x: extract_still(x))"
   ]
  },
  {
   "cell_type": "code",
   "execution_count": 179,
   "metadata": {},
   "outputs": [],
   "source": [
    "#"
   ]
  },
  {
   "cell_type": "code",
   "execution_count": 80,
   "metadata": {},
   "outputs": [],
   "source": [
    "# Status: endgültig stillgelegt, vorläufig stillgelegt, in Betrieb, Sicherheitsbereitschaft, Sonderfall, \n",
    "# Stillegung: [Jahreszahl]\n",
    "# StA: ja/ nein"
   ]
  },
  {
   "cell_type": "code",
   "execution_count": 81,
   "metadata": {},
   "outputs": [],
   "source": [
    "newdf = pd.DataFrame()"
   ]
  },
  {
   "cell_type": "code",
   "execution_count": 82,
   "metadata": {},
   "outputs": [],
   "source": [
    "def generate_decom_tuple(state):\n",
    "    if state == \"In Betrieb\":\n",
    "        return(\"in Betrieb\", \"0\")\n",
    "    elif \"Endgültig Stillgelegt\" in state:\n",
    "        a = \"stillgelegt\"\n",
    "        b = str(int(state[22:26]))\n",
    "        return (a, b)\n",
    "    elif \"Vorläufig Stillgelegt\" in state:\n",
    "        a = \"vorläufig stillgelegt\"\n",
    "        return (a, \"0\")\n",
    "    else:\n",
    "        return(state, \"0\")"
   ]
  },
  {
   "cell_type": "code",
   "execution_count": 84,
   "metadata": {},
   "outputs": [],
   "source": [
    "def fix_company(company):\n",
    "    cmp = company\n",
    "    # company_dict = {}\n",
    "    company_dict = {\"RWE\": \"RWE AG\", \"Vattenfall\": \"Vattenfall GmbH\", \"Uniper\": \"Uniper SE\", \"EnBW\": \"EnBW AG\", \"Steag\": \"Steag GmbH\", \"Nordzucker\": \"Nordzucker AG\"}\n",
    "    try:\n",
    "        company_prefix, _ = company.split(\" \" , 1)\n",
    "        cmp = company_dict[company_prefix]\n",
    "    except (KeyError, AttributeError, ValueError):\n",
    "        return company\n",
    "    return cmp"
   ]
  },
  {
   "cell_type": "code",
   "execution_count": 85,
   "metadata": {},
   "outputs": [],
   "source": [
    "for index, row in pl3.iterrows():\n",
    "    #if row['Status'] == \"Endgültig Stillgelegt 2016 (mit StA)\":\n",
    "    # print(row)\n",
    "    if row['KWK'] == \"nein\":\n",
    "        row['KWK'] = \"Nein\" # workaround for BoA plants\n",
    "    status, stilllegung = generate_decom_tuple(row['Status'])\n",
    "    cmp = fix_company(row['Unternehmen'])\n",
    "    row['Unternehmen'] = cmp\n",
    "    row['Status'] = status\n",
    "    row['Stilllegung'] = stilllegung\n",
    "    newdf = newdf.append(row)"
   ]
  },
  {
   "cell_type": "code",
   "execution_count": 86,
   "metadata": {
    "scrolled": true
   },
   "outputs": [
    {
     "data": {
      "text/plain": [
       "'\\nfor index, row in pl3.iterrows():\\n    #if row[\\'Status\\'] == \"Endgültig Stillgelegt 2016 (mit StA)\":\\n    #print(row)\\n    if row[\\'KWK\\'] == \"nein\":\\n        row[\\'KWK\\'] = \"Nein\" # workaround for BoA plants\\n    if row[\\'KWK\\'] == \"ja\":\\n        row[\\'KWK\\'] = \"Ja\"\\n    status, stilllegung = generate_decom_tuple(row[\\'Status\\'])\\n    try:\\n        #new_cmp = fix_company(row[\\'Unternehmen\\'])\\n        print(row)\\n    #row[\\'Unternehmen\\'] = new_cmp\\n    #row[\\'Status\\'] = status\\n    #row[\\'Stilllegung\\'] = stilllegung\\n    #newdf = newdf.append(row)\\n'"
      ]
     },
     "execution_count": 86,
     "metadata": {},
     "output_type": "execute_result"
    }
   ],
   "source": [
    "'''\n",
    "for index, row in pl3.iterrows():\n",
    "    #if row['Status'] == \"Endgültig Stillgelegt 2016 (mit StA)\":\n",
    "    #print(row)\n",
    "    if row['KWK'] == \"nein\":\n",
    "        row['KWK'] = \"Nein\" # workaround for BoA plants\n",
    "    if row['KWK'] == \"ja\":\n",
    "        row['KWK'] = \"Ja\"\n",
    "    status, stilllegung = generate_decom_tuple(row['Status'])\n",
    "    try:\n",
    "        #new_cmp = fix_company(row['Unternehmen'])\n",
    "        print(row)\n",
    "    #row['Unternehmen'] = new_cmp\n",
    "    #row['Status'] = status\n",
    "    #row['Stilllegung'] = stilllegung\n",
    "    #newdf = newdf.append(row)\n",
    "'''"
   ]
  },
  {
   "cell_type": "code",
   "execution_count": 87,
   "metadata": {},
   "outputs": [],
   "source": [
    "# newdf['Stilllegung'] = newdf['Stilllegung'].astype(int)\n",
    "#newdf['Stilllegung'] = newdf['Stilllegung'].apply(lambda x: int(x) if x == x else None)"
   ]
  },
  {
   "cell_type": "code",
   "execution_count": 88,
   "metadata": {},
   "outputs": [],
   "source": [
    "newdf['Stilllegung'] = newdf['Stilllegung'].replace(\"0\", np.nan)"
   ]
  },
  {
   "cell_type": "code",
   "execution_count": 89,
   "metadata": {},
   "outputs": [
    {
     "data": {
      "text/plain": [
       "Blockname                                      object\n",
       "Bundesland                                     object\n",
       "Energieträger                                  object\n",
       "Inbetriebnahme                                float64\n",
       "KWK                                            object\n",
       "Kraftwerksname                                 object\n",
       "Nettoleistung                                 float64\n",
       "Ort                                            object\n",
       "PLZ                                            object\n",
       "Status                                         object\n",
       "Stilllegung                                    object\n",
       "Straße und Hausnummer (Standort Kraftwerk)     object\n",
       "Unternehmen                                    object\n",
       "blockid                                        object\n",
       "dtype: object"
      ]
     },
     "execution_count": 89,
     "metadata": {},
     "output_type": "execute_result"
    }
   ],
   "source": [
    "newdf.dtypes"
   ]
  },
  {
   "cell_type": "code",
   "execution_count": 90,
   "metadata": {},
   "outputs": [],
   "source": [
    "newdf[\"Status\"] = newdf[\"Status\"].astype('category')\n",
    "newdf[\"Status\"] = newdf[\"Status\"].cat.set_categories(['in Betrieb', 'Gesetzlich an Stilllegung gehindert', 'Netzreserve',  'Sicherheitsbereitschaft', 'Sonderfall', 'vorläufig stillgelegt', 'stillgelegt'], ordered=True)"
   ]
  },
  {
   "cell_type": "code",
   "execution_count": 91,
   "metadata": {},
   "outputs": [],
   "source": [
    "newdf[\"KWK\"] = newdf[\"KWK\"].astype('category')\n",
    "newdf[\"KWK\"] = newdf[\"KWK\"].cat.set_categories(['Ja', 'Nein'], ordered=True)"
   ]
  },
  {
   "cell_type": "code",
   "execution_count": 92,
   "metadata": {},
   "outputs": [],
   "source": [
    "atest = newdf.groupby(\"KWK\")"
   ]
  },
  {
   "cell_type": "code",
   "execution_count": 93,
   "metadata": {},
   "outputs": [
    {
     "data": {
      "text/html": [
       "<div>\n",
       "<style scoped>\n",
       "    .dataframe tbody tr th:only-of-type {\n",
       "        vertical-align: middle;\n",
       "    }\n",
       "\n",
       "    .dataframe tbody tr th {\n",
       "        vertical-align: top;\n",
       "    }\n",
       "\n",
       "    .dataframe thead th {\n",
       "        text-align: right;\n",
       "    }\n",
       "</style>\n",
       "<table border=\"1\" class=\"dataframe\">\n",
       "  <thead>\n",
       "    <tr style=\"text-align: right;\">\n",
       "      <th></th>\n",
       "      <th>Blockname</th>\n",
       "      <th>Bundesland</th>\n",
       "      <th>Inbetriebnahme</th>\n",
       "      <th>KWK</th>\n",
       "      <th>Kraftwerksname</th>\n",
       "      <th>Nettoleistung</th>\n",
       "      <th>Ort</th>\n",
       "      <th>PLZ</th>\n",
       "      <th>Status</th>\n",
       "      <th>Stilllegung</th>\n",
       "      <th>Straße und Hausnummer (Standort Kraftwerk)</th>\n",
       "      <th>Unternehmen</th>\n",
       "      <th>blockid</th>\n",
       "    </tr>\n",
       "    <tr>\n",
       "      <th>Energieträger</th>\n",
       "      <th></th>\n",
       "      <th></th>\n",
       "      <th></th>\n",
       "      <th></th>\n",
       "      <th></th>\n",
       "      <th></th>\n",
       "      <th></th>\n",
       "      <th></th>\n",
       "      <th></th>\n",
       "      <th></th>\n",
       "      <th></th>\n",
       "      <th></th>\n",
       "      <th></th>\n",
       "    </tr>\n",
       "  </thead>\n",
       "  <tbody>\n",
       "    <tr>\n",
       "      <th>Braunkohle</th>\n",
       "      <td>69</td>\n",
       "      <td>77</td>\n",
       "      <td>77</td>\n",
       "      <td>74</td>\n",
       "      <td>76</td>\n",
       "      <td>77</td>\n",
       "      <td>77</td>\n",
       "      <td>77</td>\n",
       "      <td>77</td>\n",
       "      <td>17</td>\n",
       "      <td>26</td>\n",
       "      <td>77</td>\n",
       "      <td>77</td>\n",
       "    </tr>\n",
       "    <tr>\n",
       "      <th>Erdgas</th>\n",
       "      <td>216</td>\n",
       "      <td>315</td>\n",
       "      <td>315</td>\n",
       "      <td>299</td>\n",
       "      <td>304</td>\n",
       "      <td>315</td>\n",
       "      <td>315</td>\n",
       "      <td>315</td>\n",
       "      <td>312</td>\n",
       "      <td>35</td>\n",
       "      <td>172</td>\n",
       "      <td>312</td>\n",
       "      <td>315</td>\n",
       "    </tr>\n",
       "    <tr>\n",
       "      <th>Kernenergie</th>\n",
       "      <td>9</td>\n",
       "      <td>9</td>\n",
       "      <td>9</td>\n",
       "      <td>9</td>\n",
       "      <td>9</td>\n",
       "      <td>9</td>\n",
       "      <td>9</td>\n",
       "      <td>9</td>\n",
       "      <td>9</td>\n",
       "      <td>3</td>\n",
       "      <td>2</td>\n",
       "      <td>9</td>\n",
       "      <td>9</td>\n",
       "    </tr>\n",
       "    <tr>\n",
       "      <th>Mineralölprodukte</th>\n",
       "      <td>47</td>\n",
       "      <td>56</td>\n",
       "      <td>56</td>\n",
       "      <td>55</td>\n",
       "      <td>56</td>\n",
       "      <td>56</td>\n",
       "      <td>56</td>\n",
       "      <td>56</td>\n",
       "      <td>51</td>\n",
       "      <td>10</td>\n",
       "      <td>30</td>\n",
       "      <td>56</td>\n",
       "      <td>56</td>\n",
       "    </tr>\n",
       "    <tr>\n",
       "      <th>Steinkohle</th>\n",
       "      <td>107</td>\n",
       "      <td>120</td>\n",
       "      <td>120</td>\n",
       "      <td>108</td>\n",
       "      <td>119</td>\n",
       "      <td>120</td>\n",
       "      <td>120</td>\n",
       "      <td>120</td>\n",
       "      <td>112</td>\n",
       "      <td>43</td>\n",
       "      <td>75</td>\n",
       "      <td>120</td>\n",
       "      <td>120</td>\n",
       "    </tr>\n",
       "  </tbody>\n",
       "</table>\n",
       "</div>"
      ],
      "text/plain": [
       "                   Blockname  Bundesland  Inbetriebnahme  KWK  Kraftwerksname  \\\n",
       "Energieträger                                                                   \n",
       "Braunkohle                69          77              77   74              76   \n",
       "Erdgas                   216         315             315  299             304   \n",
       "Kernenergie                9           9               9    9               9   \n",
       "Mineralölprodukte         47          56              56   55              56   \n",
       "Steinkohle               107         120             120  108             119   \n",
       "\n",
       "                   Nettoleistung  Ort  PLZ  Status  Stilllegung  \\\n",
       "Energieträger                                                     \n",
       "Braunkohle                    77   77   77      77           17   \n",
       "Erdgas                       315  315  315     312           35   \n",
       "Kernenergie                    9    9    9       9            3   \n",
       "Mineralölprodukte             56   56   56      51           10   \n",
       "Steinkohle                   120  120  120     112           43   \n",
       "\n",
       "                   Straße und Hausnummer (Standort Kraftwerk)  Unternehmen  \\\n",
       "Energieträger                                                                \n",
       "Braunkohle                                                 26           77   \n",
       "Erdgas                                                    172          312   \n",
       "Kernenergie                                                 2            9   \n",
       "Mineralölprodukte                                          30           56   \n",
       "Steinkohle                                                 75          120   \n",
       "\n",
       "                   blockid  \n",
       "Energieträger               \n",
       "Braunkohle              77  \n",
       "Erdgas                 315  \n",
       "Kernenergie              9  \n",
       "Mineralölprodukte       56  \n",
       "Steinkohle             120  "
      ]
     },
     "execution_count": 93,
     "metadata": {},
     "output_type": "execute_result"
    }
   ],
   "source": [
    "newdf.groupby(\"Energieträger\").count()"
   ]
  },
  {
   "cell_type": "code",
   "execution_count": 94,
   "metadata": {},
   "outputs": [
    {
     "data": {
      "text/html": [
       "<div>\n",
       "<style scoped>\n",
       "    .dataframe tbody tr th:only-of-type {\n",
       "        vertical-align: middle;\n",
       "    }\n",
       "\n",
       "    .dataframe tbody tr th {\n",
       "        vertical-align: top;\n",
       "    }\n",
       "\n",
       "    .dataframe thead th {\n",
       "        text-align: right;\n",
       "    }\n",
       "</style>\n",
       "<table border=\"1\" class=\"dataframe\">\n",
       "  <thead>\n",
       "    <tr style=\"text-align: right;\">\n",
       "      <th></th>\n",
       "      <th>Blockname</th>\n",
       "      <th>Bundesland</th>\n",
       "      <th>Energieträger</th>\n",
       "      <th>Inbetriebnahme</th>\n",
       "      <th>Kraftwerksname</th>\n",
       "      <th>Nettoleistung</th>\n",
       "      <th>Ort</th>\n",
       "      <th>PLZ</th>\n",
       "      <th>Status</th>\n",
       "      <th>Stilllegung</th>\n",
       "      <th>Straße und Hausnummer (Standort Kraftwerk)</th>\n",
       "      <th>Unternehmen</th>\n",
       "      <th>blockid</th>\n",
       "    </tr>\n",
       "    <tr>\n",
       "      <th>KWK</th>\n",
       "      <th></th>\n",
       "      <th></th>\n",
       "      <th></th>\n",
       "      <th></th>\n",
       "      <th></th>\n",
       "      <th></th>\n",
       "      <th></th>\n",
       "      <th></th>\n",
       "      <th></th>\n",
       "      <th></th>\n",
       "      <th></th>\n",
       "      <th></th>\n",
       "      <th></th>\n",
       "    </tr>\n",
       "  </thead>\n",
       "  <tbody>\n",
       "    <tr>\n",
       "      <th>Ja</th>\n",
       "      <td>280</td>\n",
       "      <td>380</td>\n",
       "      <td>380</td>\n",
       "      <td>380</td>\n",
       "      <td>367</td>\n",
       "      <td>380</td>\n",
       "      <td>380</td>\n",
       "      <td>380</td>\n",
       "      <td>377</td>\n",
       "      <td>53</td>\n",
       "      <td>216</td>\n",
       "      <td>377</td>\n",
       "      <td>380</td>\n",
       "    </tr>\n",
       "    <tr>\n",
       "      <th>Nein</th>\n",
       "      <td>149</td>\n",
       "      <td>165</td>\n",
       "      <td>165</td>\n",
       "      <td>165</td>\n",
       "      <td>165</td>\n",
       "      <td>165</td>\n",
       "      <td>165</td>\n",
       "      <td>165</td>\n",
       "      <td>153</td>\n",
       "      <td>52</td>\n",
       "      <td>61</td>\n",
       "      <td>165</td>\n",
       "      <td>165</td>\n",
       "    </tr>\n",
       "  </tbody>\n",
       "</table>\n",
       "</div>"
      ],
      "text/plain": [
       "      Blockname  Bundesland  Energieträger  Inbetriebnahme  Kraftwerksname  \\\n",
       "KWK                                                                          \n",
       "Ja          280         380            380             380             367   \n",
       "Nein        149         165            165             165             165   \n",
       "\n",
       "      Nettoleistung  Ort  PLZ  Status  Stilllegung  \\\n",
       "KWK                                                  \n",
       "Ja              380  380  380     377           53   \n",
       "Nein            165  165  165     153           52   \n",
       "\n",
       "      Straße und Hausnummer (Standort Kraftwerk)  Unternehmen  blockid  \n",
       "KWK                                                                     \n",
       "Ja                                           216          377      380  \n",
       "Nein                                          61          165      165  "
      ]
     },
     "execution_count": 94,
     "metadata": {},
     "output_type": "execute_result"
    }
   ],
   "source": [
    "atest.count()"
   ]
  },
  {
   "cell_type": "code",
   "execution_count": 95,
   "metadata": {},
   "outputs": [],
   "source": [
    "pl3 = newdf"
   ]
  },
  {
   "cell_type": "code",
   "execution_count": 96,
   "metadata": {},
   "outputs": [],
   "source": [
    "atest = newdf.groupby([\"Unternehmen\"]).count()\n",
    "atest.sort_values(\"Inbetriebnahme\", inplace=True, ascending=False)"
   ]
  },
  {
   "cell_type": "code",
   "execution_count": 97,
   "metadata": {},
   "outputs": [],
   "source": [
    "#print(atest)"
   ]
  },
  {
   "cell_type": "code",
   "execution_count": 98,
   "metadata": {},
   "outputs": [],
   "source": [
    "atest = pl3.groupby([\"Status\"]).count()\n",
    "# atest"
   ]
  },
  {
   "cell_type": "code",
   "execution_count": 99,
   "metadata": {},
   "outputs": [],
   "source": [
    "# pl3.rename(columns={ pl3.columns[10]: \"Energieträger\"}, inplace=True)"
   ]
  },
  {
   "cell_type": "code",
   "execution_count": 100,
   "metadata": {},
   "outputs": [
    {
     "data": {
      "text/html": [
       "<div>\n",
       "<style scoped>\n",
       "    .dataframe tbody tr th:only-of-type {\n",
       "        vertical-align: middle;\n",
       "    }\n",
       "\n",
       "    .dataframe tbody tr th {\n",
       "        vertical-align: top;\n",
       "    }\n",
       "\n",
       "    .dataframe thead th {\n",
       "        text-align: right;\n",
       "    }\n",
       "</style>\n",
       "<table border=\"1\" class=\"dataframe\">\n",
       "  <thead>\n",
       "    <tr style=\"text-align: right;\">\n",
       "      <th></th>\n",
       "      <th>plantid</th>\n",
       "      <th>blockid</th>\n",
       "    </tr>\n",
       "  </thead>\n",
       "  <tbody>\n",
       "  </tbody>\n",
       "</table>\n",
       "</div>"
      ],
      "text/plain": [
       "Empty DataFrame\n",
       "Columns: [plantid, blockid]\n",
       "Index: []"
      ]
     },
     "execution_count": 100,
     "metadata": {},
     "output_type": "execute_result"
    }
   ],
   "source": [
    "bm[bm.duplicated(['blockid'], keep=False)].sort_values(\"blockid\", ascending=False)"
   ]
  },
  {
   "cell_type": "code",
   "execution_count": 101,
   "metadata": {},
   "outputs": [],
   "source": [
    "#bm2 = bm.drop_duplicates()"
   ]
  },
  {
   "cell_type": "code",
   "execution_count": 102,
   "metadata": {},
   "outputs": [],
   "source": [
    "pl4 = bm.merge(pl3, how=\"outer\", on=\"blockid\")"
   ]
  },
  {
   "cell_type": "code",
   "execution_count": 103,
   "metadata": {},
   "outputs": [],
   "source": [
    "#pl4[pl4.duplicated(['BlocID'], keep=False)].sort_values(\"BlockID\", ascending=False)"
   ]
  },
  {
   "cell_type": "code",
   "execution_count": 104,
   "metadata": {},
   "outputs": [],
   "source": [
    "pl5 = pl4[pd.notnull(pl4['blockid'])]\n",
    "#pl5 = pl4\n",
    "pl6 = pl5[pd.notnull(pl5['Nettoleistung'])]"
   ]
  },
  {
   "cell_type": "code",
   "execution_count": 105,
   "metadata": {},
   "outputs": [],
   "source": [
    "# pl6"
   ]
  },
  {
   "cell_type": "code",
   "execution_count": 106,
   "metadata": {},
   "outputs": [
    {
     "name": "stderr",
     "output_type": "stream",
     "text": [
      "/opt/conda/envs/idp/lib/python3.7/site-packages/ipykernel_launcher.py:1: SettingWithCopyWarning: \n",
      "A value is trying to be set on a copy of a slice from a DataFrame.\n",
      "Try using .loc[row_indexer,col_indexer] = value instead\n",
      "\n",
      "See the caveats in the documentation: http://pandas.pydata.org/pandas-docs/stable/user_guide/indexing.html#returning-a-view-versus-a-copy\n",
      "  \"\"\"Entry point for launching an IPython kernel.\n"
     ]
    }
   ],
   "source": [
    "pl6['plantid'] = pl6['plantid'].apply(lambda x: str(x).replace('/', '_'))"
   ]
  },
  {
   "cell_type": "code",
   "execution_count": 107,
   "metadata": {},
   "outputs": [],
   "source": [
    "# pl7 = pl6.replace(\"/\", \"_\")"
   ]
  },
  {
   "cell_type": "code",
   "execution_count": 108,
   "metadata": {},
   "outputs": [],
   "source": [
    "#pl7 = pl6.apply(str.replace(\"/\", \"_\"))"
   ]
  },
  {
   "cell_type": "code",
   "execution_count": 109,
   "metadata": {},
   "outputs": [],
   "source": [
    "#pl6.loc[pl6.Kraftwerksname == \"KW Mittelsbüren\"]"
   ]
  },
  {
   "cell_type": "code",
   "execution_count": 110,
   "metadata": {},
   "outputs": [
    {
     "name": "stderr",
     "output_type": "stream",
     "text": [
      "/opt/conda/envs/idp/lib/python3.7/site-packages/ipykernel_launcher.py:1: SettingWithCopyWarning: \n",
      "A value is trying to be set on a copy of a slice from a DataFrame.\n",
      "Try using .loc[row_indexer,col_indexer] = value instead\n",
      "\n",
      "See the caveats in the documentation: http://pandas.pydata.org/pandas-docs/stable/user_guide/indexing.html#returning-a-view-versus-a-copy\n",
      "  \"\"\"Entry point for launching an IPython kernel.\n"
     ]
    }
   ],
   "source": [
    "pl6['Inbetriebnahme'] = pl6['Inbetriebnahme'].apply(pd.to_numeric)"
   ]
  },
  {
   "cell_type": "code",
   "execution_count": 111,
   "metadata": {},
   "outputs": [],
   "source": [
    "blocks = pl6.copy()\n",
    "stammdaten = pl6.copy()"
   ]
  },
  {
   "cell_type": "code",
   "execution_count": 112,
   "metadata": {},
   "outputs": [],
   "source": [
    "blocks.sort_values(\"Inbetriebnahme\", inplace=True, ascending=False)\n",
    "# blocks"
   ]
  },
  {
   "cell_type": "code",
   "execution_count": 113,
   "metadata": {},
   "outputs": [],
   "source": [
    "plants = blocks.loc[:]\n",
    "plants = plants.dropna(subset=[\"plantid\"])"
   ]
  },
  {
   "cell_type": "code",
   "execution_count": 114,
   "metadata": {},
   "outputs": [],
   "source": [
    "#plants_d = plants.loc[plants.duplicated(\"KraftwerkID\", keep=False)]\n",
    "# plants_d"
   ]
  },
  {
   "cell_type": "code",
   "execution_count": 115,
   "metadata": {},
   "outputs": [],
   "source": [
    "#plants_c = plants_d.groupby([\"KraftwerkID\"]).sum()\n",
    "#plants_count = plants_d.groupby([\"KraftwerkID\"]).count()"
   ]
  },
  {
   "cell_type": "code",
   "execution_count": 116,
   "metadata": {},
   "outputs": [],
   "source": [
    "#plants_f = plants_c.reset_index()"
   ]
  },
  {
   "cell_type": "code",
   "execution_count": 117,
   "metadata": {},
   "outputs": [],
   "source": [
    "#plants_count = plants_count.loc[:, [\"blockid\"]]"
   ]
  },
  {
   "cell_type": "code",
   "execution_count": 118,
   "metadata": {},
   "outputs": [],
   "source": [
    "#plants_count = plants_count.reset_index()\n",
    "# plants_count "
   ]
  },
  {
   "cell_type": "code",
   "execution_count": 119,
   "metadata": {},
   "outputs": [],
   "source": [
    "#plants_f = plants_f.merge(plants_count, on=\"KraftwerkID\", how=\"inner\")\n",
    "# plants_f"
   ]
  },
  {
   "cell_type": "code",
   "execution_count": 120,
   "metadata": {
    "scrolled": true
   },
   "outputs": [],
   "source": [
    "#plants[plants.duplicated(['KraftwerkID'], keep=False)].sort_values(\"BlockID\", ascending=False)"
   ]
  },
  {
   "cell_type": "code",
   "execution_count": 121,
   "metadata": {},
   "outputs": [],
   "source": [
    "plants[\"Energieträger\"] = plants[\"Energieträger\"].astype('category')\n",
    "plants[\"Energieträger\"] = plants[\"Energieträger\"].cat.set_categories([\"Kernenergie\", \"Braunkohle\", \"Steinkohle\", \"Erdgas\", \"Mineralölprodukte\"], ordered=True)\n",
    "plants[\"Status\"] = plants[\"Status\"].astype('category')\n",
    "plants[\"Status\"] = plants[\"Status\"].cat.set_categories(['in Betrieb', 'Gesetzlich an Stilllegung gehindert', 'Netzreserve',  'Sicherheitsbereitschaft', 'Sonderfall', 'vorläufig stillgelegt', 'stillgelegt'], ordered=True)\n",
    "plants[\"KWK\"] = plants[\"KWK\"].astype('category')\n",
    "plants[\"KWK\"] = plants[\"KWK\"].cat.set_categories(['Ja', 'Nein'], ordered=True)\n",
    "plants[\"Bundesland\"] = plants[\"Bundesland\"].astype('category')\n",
    "plants[\"Bundesland\"] = plants[\"Bundesland\"].cat.set_categories(['Baden-Württemberg', 'Bayern', 'Berlin', 'Brandenburg', 'Bremen', 'Hamburg', 'Hessen', 'Mecklenburg-Vorpommern', 'Niedersachsen', 'Nordrhein-Westfalen', 'Rheinland-Pfalz', 'Saarland', 'Sachsen', 'Sachsen-Anhalt', 'Schleswig-Holstein', 'Thüringen'])"
   ]
  },
  {
   "cell_type": "code",
   "execution_count": 122,
   "metadata": {},
   "outputs": [],
   "source": [
    "p_grp = plants.groupby(\"plantid\")"
   ]
  },
  {
   "cell_type": "code",
   "execution_count": 123,
   "metadata": {},
   "outputs": [
    {
     "data": {
      "text/html": [
       "<div>\n",
       "<style scoped>\n",
       "    .dataframe tbody tr th:only-of-type {\n",
       "        vertical-align: middle;\n",
       "    }\n",
       "\n",
       "    .dataframe tbody tr th {\n",
       "        vertical-align: top;\n",
       "    }\n",
       "\n",
       "    .dataframe thead th {\n",
       "        text-align: right;\n",
       "    }\n",
       "</style>\n",
       "<table border=\"1\" class=\"dataframe\">\n",
       "  <thead>\n",
       "    <tr style=\"text-align: right;\">\n",
       "      <th></th>\n",
       "      <th>plantid</th>\n",
       "      <th>blockid</th>\n",
       "      <th>Inbetriebnahme</th>\n",
       "      <th>KWK</th>\n",
       "      <th>Nettoleistung</th>\n",
       "      <th>Ort</th>\n",
       "      <th>PLZ</th>\n",
       "      <th>Status</th>\n",
       "    </tr>\n",
       "    <tr>\n",
       "      <th>Energieträger</th>\n",
       "      <th></th>\n",
       "      <th></th>\n",
       "      <th></th>\n",
       "      <th></th>\n",
       "      <th></th>\n",
       "      <th></th>\n",
       "      <th></th>\n",
       "      <th></th>\n",
       "    </tr>\n",
       "  </thead>\n",
       "  <tbody>\n",
       "    <tr>\n",
       "      <th>Kernenergie</th>\n",
       "      <td>666-18</td>\n",
       "      <td>BNA0802</td>\n",
       "      <td>1989.0</td>\n",
       "      <td>Nein</td>\n",
       "      <td>1410.0</td>\n",
       "      <td>Philippsburg</td>\n",
       "      <td>97506</td>\n",
       "      <td>stillgelegt</td>\n",
       "    </tr>\n",
       "    <tr>\n",
       "      <th>Braunkohle</th>\n",
       "      <td>664-08</td>\n",
       "      <td>BNA1511a</td>\n",
       "      <td>2014.0</td>\n",
       "      <td>Nein</td>\n",
       "      <td>1060.0</td>\n",
       "      <td>Zülpich</td>\n",
       "      <td>9116</td>\n",
       "      <td>stillgelegt</td>\n",
       "    </tr>\n",
       "    <tr>\n",
       "      <th>Steinkohle</th>\n",
       "      <td>663-07</td>\n",
       "      <td>BNA1674</td>\n",
       "      <td>2015.0</td>\n",
       "      <td>Nein</td>\n",
       "      <td>875.0</td>\n",
       "      <td>Zolling</td>\n",
       "      <td>A-44655</td>\n",
       "      <td>stillgelegt</td>\n",
       "    </tr>\n",
       "    <tr>\n",
       "      <th>Erdgas</th>\n",
       "      <td>nan</td>\n",
       "      <td>BNa1947</td>\n",
       "      <td>2019.0</td>\n",
       "      <td>Nein</td>\n",
       "      <td>887.0</td>\n",
       "      <td>Zülpich</td>\n",
       "      <td>A-91052</td>\n",
       "      <td>stillgelegt</td>\n",
       "    </tr>\n",
       "    <tr>\n",
       "      <th>Mineralölprodukte</th>\n",
       "      <td>669-01</td>\n",
       "      <td>BNA1338</td>\n",
       "      <td>2011.0</td>\n",
       "      <td>Nein</td>\n",
       "      <td>415.0</td>\n",
       "      <td>Zolling</td>\n",
       "      <td>94469</td>\n",
       "      <td>stillgelegt</td>\n",
       "    </tr>\n",
       "  </tbody>\n",
       "</table>\n",
       "</div>"
      ],
      "text/plain": [
       "                  plantid   blockid  Inbetriebnahme   KWK  Nettoleistung  \\\n",
       "Energieträger                                                              \n",
       "Kernenergie        666-18   BNA0802          1989.0  Nein         1410.0   \n",
       "Braunkohle         664-08  BNA1511a          2014.0  Nein         1060.0   \n",
       "Steinkohle         663-07   BNA1674          2015.0  Nein          875.0   \n",
       "Erdgas                nan   BNa1947          2019.0  Nein          887.0   \n",
       "Mineralölprodukte  669-01   BNA1338          2011.0  Nein          415.0   \n",
       "\n",
       "                            Ort      PLZ       Status  \n",
       "Energieträger                                          \n",
       "Kernenergie        Philippsburg    97506  stillgelegt  \n",
       "Braunkohle              Zülpich     9116  stillgelegt  \n",
       "Steinkohle              Zolling  A-44655  stillgelegt  \n",
       "Erdgas                  Zülpich  A-91052  stillgelegt  \n",
       "Mineralölprodukte       Zolling    94469  stillgelegt  "
      ]
     },
     "execution_count": 123,
     "metadata": {},
     "output_type": "execute_result"
    }
   ],
   "source": [
    "plants.groupby(\"Energieträger\").max()"
   ]
  },
  {
   "cell_type": "code",
   "execution_count": 124,
   "metadata": {},
   "outputs": [],
   "source": [
    "plants_a = pd.DataFrame()\n",
    "for plantid, group in p_grp:\n",
    "    #if not plantid == \"06-05-300-9046797\":\n",
    "    #    continue\n",
    "    entry = {}\n",
    "    #print(entry)\n",
    "    entry[\"plantid\"] = plantid\n",
    "    # entry[\"BlockID\"] = group\n",
    "    try:\n",
    "        entry[\"plantname\"] = group[\"Kraftwerksname\"].value_counts().index[0]\n",
    "    except IndexError:\n",
    "        entry[\"plantname\"] = np.NaN\n",
    "    entry[\"federalstate\"] = group[\"Bundesland\"].value_counts().index[0]\n",
    "    entry[\"energysource\"] = group[\"Energieträger\"].min()\n",
    "    try:\n",
    "        entry[\"chp\"] = group[\"KWK\"].min()\n",
    "    except TypeError:\n",
    "        #print(\"aneror\")\n",
    "        #print(plantid)\n",
    "        #print(group['KWK'].count())\n",
    "        entry[\"chp\"] = \"\"\n",
    "    entry[\"latestexpanded\"] = group[\"Inbetriebnahme\"].max()\n",
    "    entry[\"initialop\"] = group[\"Inbetriebnahme\"].min()\n",
    "    entry[\"totalpower\"] = group[\"Nettoleistung\"].sum()\n",
    "    entry[\"state\"] = group[\"Status\"].min()\n",
    "    entry[\"blockcount\"] = group[\"blockid\"].count()\n",
    "    try:\n",
    "        entry[\"company\"] = group[\"Unternehmen\"].value_counts().index[0]\n",
    "    except IndexError:\n",
    "        ;\n",
    "    #print(entry)\n",
    "    #break\n",
    "    plants_a = plants_a.append(entry, ignore_index=True)"
   ]
  },
  {
   "cell_type": "code",
   "execution_count": 125,
   "metadata": {},
   "outputs": [],
   "source": [
    "int_list = ['blockcount', 'initialop', 'latestexpanded']\n",
    "for column in int_list:\n",
    "    plants_a[column] = plants_a[column].astype(int)\n",
    "#plant['blockcount'] = pl2['blockcount'].apply(pd.to_numeric)\n",
    "#pl2['blockcount'] = pl2['blockcount'].apply(pd.to_numeric)\n",
    "#pl2['blockcount'] = pl2['blockcount'].apply(pd.to_numeric)\n",
    "#pl2['blockcount'] = pl2['blockcount'].apply(pd.to_numeric)"
   ]
  },
  {
   "cell_type": "code",
   "execution_count": 126,
   "metadata": {},
   "outputs": [
    {
     "data": {
      "text/plain": [
       "blockcount          int64\n",
       "chp                object\n",
       "company            object\n",
       "energysource       object\n",
       "federalstate       object\n",
       "initialop           int64\n",
       "latestexpanded      int64\n",
       "plantid            object\n",
       "plantname          object\n",
       "state              object\n",
       "totalpower        float64\n",
       "dtype: object"
      ]
     },
     "execution_count": 126,
     "metadata": {},
     "output_type": "execute_result"
    }
   ],
   "source": [
    "plants_a.dtypes"
   ]
  },
  {
   "cell_type": "code",
   "execution_count": 127,
   "metadata": {},
   "outputs": [],
   "source": [
    "plants_a[\"energysource\"] = plants_a[\"energysource\"].astype('category')\n",
    "plants_a[\"energysource\"] = plants_a[\"energysource\"].cat.set_categories([\"Kernenergie\", \"Braunkohle\", \"Steinkohle\", \"Erdgas\", \"Mineralölprodukte\"], ordered=True)\n",
    "plants_a[\"state\"] = plants_a[\"state\"].astype('category')\n",
    "plants_a[\"state\"] = plants_a[\"state\"].cat.set_categories(['in Betrieb', 'Gesetzlich an Stilllegung gehindert', 'Netzreserve',  'Sicherheitsbereitschaft', 'Sonderfall', 'vorläufig stillgelegt', 'stillgelegt'], ordered=True)\n",
    "plants_a[\"chp\"] = plants_a[\"chp\"].astype('category')\n",
    "plants_a[\"chp\"] = plants_a[\"chp\"].cat.set_categories(['Ja', 'Nein'], ordered=True)\n",
    "plants_a[\"federalstate\"] = plants_a[\"federalstate\"].astype('category')\n",
    "plants_a[\"federalstate\"] = plants_a[\"federalstate\"].cat.set_categories(['Baden-Württemberg', 'Bayern', 'Berlin', 'Brandenburg', 'Bremen', 'Hamburg', 'Hessen', 'Mecklenburg-Vorpommern', 'Niedersachsen', 'Nordrhein-Westfalen', 'Rheinland-Pfalz', 'Saarland', 'Sachsen', 'Sachsen-Anhalt', 'Schleswig-Holstein', 'Thüringen'])"
   ]
  },
  {
   "cell_type": "code",
   "execution_count": 128,
   "metadata": {},
   "outputs": [
    {
     "data": {
      "text/plain": [
       "blockcount           int64\n",
       "chp               category\n",
       "company             object\n",
       "energysource      category\n",
       "federalstate      category\n",
       "initialop            int64\n",
       "latestexpanded       int64\n",
       "plantid             object\n",
       "plantname           object\n",
       "state             category\n",
       "totalpower         float64\n",
       "dtype: object"
      ]
     },
     "execution_count": 128,
     "metadata": {},
     "output_type": "execute_result"
    }
   ],
   "source": [
    "plants_a.dtypes"
   ]
  },
  {
   "cell_type": "code",
   "execution_count": 129,
   "metadata": {},
   "outputs": [
    {
     "data": {
      "text/html": [
       "<div>\n",
       "<style scoped>\n",
       "    .dataframe tbody tr th:only-of-type {\n",
       "        vertical-align: middle;\n",
       "    }\n",
       "\n",
       "    .dataframe tbody tr th {\n",
       "        vertical-align: top;\n",
       "    }\n",
       "\n",
       "    .dataframe thead th {\n",
       "        text-align: right;\n",
       "    }\n",
       "</style>\n",
       "<table border=\"1\" class=\"dataframe\">\n",
       "  <thead>\n",
       "    <tr style=\"text-align: right;\">\n",
       "      <th></th>\n",
       "      <th>blockcount</th>\n",
       "      <th>chp</th>\n",
       "      <th>company</th>\n",
       "      <th>energysource</th>\n",
       "      <th>federalstate</th>\n",
       "      <th>initialop</th>\n",
       "      <th>latestexpanded</th>\n",
       "      <th>plantid</th>\n",
       "      <th>plantname</th>\n",
       "      <th>state</th>\n",
       "      <th>totalpower</th>\n",
       "    </tr>\n",
       "  </thead>\n",
       "  <tbody>\n",
       "    <tr>\n",
       "      <th>52</th>\n",
       "      <td>9</td>\n",
       "      <td>Ja</td>\n",
       "      <td>RWE AG</td>\n",
       "      <td>Braunkohle</td>\n",
       "      <td>Nordrhein-Westfalen</td>\n",
       "      <td>1963</td>\n",
       "      <td>2002</td>\n",
       "      <td>06-05-300-0326774</td>\n",
       "      <td>Niederaußem</td>\n",
       "      <td>in Betrieb</td>\n",
       "      <td>3656.0</td>\n",
       "    </tr>\n",
       "  </tbody>\n",
       "</table>\n",
       "</div>"
      ],
      "text/plain": [
       "    blockcount chp company energysource         federalstate  initialop  \\\n",
       "52           9  Ja  RWE AG   Braunkohle  Nordrhein-Westfalen       1963   \n",
       "\n",
       "    latestexpanded            plantid    plantname       state  totalpower  \n",
       "52            2002  06-05-300-0326774  Niederaußem  in Betrieb      3656.0  "
      ]
     },
     "execution_count": 129,
     "metadata": {},
     "output_type": "execute_result"
    }
   ],
   "source": [
    "plants_a.loc[plants_a.plantid == \"06-05-300-0326774\"]"
   ]
  },
  {
   "cell_type": "code",
   "execution_count": 130,
   "metadata": {},
   "outputs": [
    {
     "data": {
      "text/html": [
       "<div>\n",
       "<style scoped>\n",
       "    .dataframe tbody tr th:only-of-type {\n",
       "        vertical-align: middle;\n",
       "    }\n",
       "\n",
       "    .dataframe tbody tr th {\n",
       "        vertical-align: top;\n",
       "    }\n",
       "\n",
       "    .dataframe thead th {\n",
       "        text-align: right;\n",
       "    }\n",
       "</style>\n",
       "<table border=\"1\" class=\"dataframe\">\n",
       "  <thead>\n",
       "    <tr style=\"text-align: right;\">\n",
       "      <th></th>\n",
       "      <th>blockcount</th>\n",
       "      <th>chp</th>\n",
       "      <th>company</th>\n",
       "      <th>energysource</th>\n",
       "      <th>federalstate</th>\n",
       "      <th>initialop</th>\n",
       "      <th>latestexpanded</th>\n",
       "      <th>plantid</th>\n",
       "      <th>plantname</th>\n",
       "      <th>state</th>\n",
       "      <th>totalpower</th>\n",
       "    </tr>\n",
       "  </thead>\n",
       "  <tbody>\n",
       "    <tr>\n",
       "      <th>22</th>\n",
       "      <td>4</td>\n",
       "      <td>Ja</td>\n",
       "      <td>Uniper SE</td>\n",
       "      <td>Steinkohle</td>\n",
       "      <td>Hessen</td>\n",
       "      <td>1965</td>\n",
       "      <td>1992</td>\n",
       "      <td>06-00176010435</td>\n",
       "      <td>Staudinger</td>\n",
       "      <td>in Betrieb</td>\n",
       "      <td>1624.0</td>\n",
       "    </tr>\n",
       "  </tbody>\n",
       "</table>\n",
       "</div>"
      ],
      "text/plain": [
       "    blockcount chp    company energysource federalstate  initialop  \\\n",
       "22           4  Ja  Uniper SE   Steinkohle       Hessen       1965   \n",
       "\n",
       "    latestexpanded         plantid   plantname       state  totalpower  \n",
       "22            1992  06-00176010435  Staudinger  in Betrieb      1624.0  "
      ]
     },
     "execution_count": 130,
     "metadata": {},
     "output_type": "execute_result"
    }
   ],
   "source": [
    "plants_a.loc[plants_a.plantid == \"06-00176010435\"]"
   ]
  },
  {
   "cell_type": "code",
   "execution_count": 131,
   "metadata": {},
   "outputs": [
    {
     "data": {
      "text/html": [
       "<div>\n",
       "<style scoped>\n",
       "    .dataframe tbody tr th:only-of-type {\n",
       "        vertical-align: middle;\n",
       "    }\n",
       "\n",
       "    .dataframe tbody tr th {\n",
       "        vertical-align: top;\n",
       "    }\n",
       "\n",
       "    .dataframe thead th {\n",
       "        text-align: right;\n",
       "    }\n",
       "</style>\n",
       "<table border=\"1\" class=\"dataframe\">\n",
       "  <thead>\n",
       "    <tr style=\"text-align: right;\">\n",
       "      <th></th>\n",
       "      <th>blockcount</th>\n",
       "      <th>chp</th>\n",
       "      <th>company</th>\n",
       "      <th>energysource</th>\n",
       "      <th>federalstate</th>\n",
       "      <th>initialop</th>\n",
       "      <th>latestexpanded</th>\n",
       "      <th>plantid</th>\n",
       "      <th>plantname</th>\n",
       "      <th>state</th>\n",
       "      <th>totalpower</th>\n",
       "    </tr>\n",
       "  </thead>\n",
       "  <tbody>\n",
       "    <tr>\n",
       "      <th>76</th>\n",
       "      <td>9</td>\n",
       "      <td>Nein</td>\n",
       "      <td>RWE AG</td>\n",
       "      <td>Steinkohle</td>\n",
       "      <td>Nordrhein-Westfalen</td>\n",
       "      <td>1973</td>\n",
       "      <td>1984</td>\n",
       "      <td>06-05-900-0865327</td>\n",
       "      <td>Gersteinwerk</td>\n",
       "      <td>in Betrieb</td>\n",
       "      <td>2011.0</td>\n",
       "    </tr>\n",
       "  </tbody>\n",
       "</table>\n",
       "</div>"
      ],
      "text/plain": [
       "    blockcount   chp company energysource         federalstate  initialop  \\\n",
       "76           9  Nein  RWE AG   Steinkohle  Nordrhein-Westfalen       1973   \n",
       "\n",
       "    latestexpanded            plantid     plantname       state  totalpower  \n",
       "76            1984  06-05-900-0865327  Gersteinwerk  in Betrieb      2011.0  "
      ]
     },
     "execution_count": 131,
     "metadata": {},
     "output_type": "execute_result"
    }
   ],
   "source": [
    "plants_a.loc[plants_a.plantid == \"06-05-900-0865327\"]"
   ]
  },
  {
   "cell_type": "code",
   "execution_count": 132,
   "metadata": {},
   "outputs": [],
   "source": [
    "#plants_a = plants.drop_duplicates(subset=\"KraftwerkID\")"
   ]
  },
  {
   "cell_type": "code",
   "execution_count": null,
   "metadata": {},
   "outputs": [],
   "source": []
  },
  {
   "cell_type": "code",
   "execution_count": 133,
   "metadata": {},
   "outputs": [],
   "source": [
    "column_titles = ['plantid', 'plantname', 'federalstate','energysource', 'chp', 'latestexpanded', 'initialop', 'totalpower', 'state', 'blockcount', 'company']\n",
    "plants_b = plants_a.reindex(columns=column_titles)"
   ]
  },
  {
   "cell_type": "code",
   "execution_count": 134,
   "metadata": {},
   "outputs": [],
   "source": [
    "#plants_b"
   ]
  },
  {
   "cell_type": "code",
   "execution_count": 135,
   "metadata": {},
   "outputs": [],
   "source": [
    "blocks.drop(['Ort', 'PLZ', 'Straße und Hausnummer (Standort Kraftwerk)'], axis=1, inplace=True)"
   ]
  },
  {
   "cell_type": "code",
   "execution_count": 136,
   "metadata": {},
   "outputs": [
    {
     "data": {
      "text/html": [
       "<div>\n",
       "<style scoped>\n",
       "    .dataframe tbody tr th:only-of-type {\n",
       "        vertical-align: middle;\n",
       "    }\n",
       "\n",
       "    .dataframe tbody tr th {\n",
       "        vertical-align: top;\n",
       "    }\n",
       "\n",
       "    .dataframe thead th {\n",
       "        text-align: right;\n",
       "    }\n",
       "</style>\n",
       "<table border=\"1\" class=\"dataframe\">\n",
       "  <thead>\n",
       "    <tr style=\"text-align: right;\">\n",
       "      <th></th>\n",
       "      <th>plantid</th>\n",
       "      <th>blockid</th>\n",
       "      <th>Blockname</th>\n",
       "      <th>Bundesland</th>\n",
       "      <th>Energieträger</th>\n",
       "      <th>Inbetriebnahme</th>\n",
       "      <th>KWK</th>\n",
       "      <th>Kraftwerksname</th>\n",
       "      <th>Nettoleistung</th>\n",
       "      <th>Status</th>\n",
       "      <th>Stilllegung</th>\n",
       "      <th>Unternehmen</th>\n",
       "    </tr>\n",
       "  </thead>\n",
       "  <tbody>\n",
       "    <tr>\n",
       "      <th>535</th>\n",
       "      <td>06-11-01-1105604</td>\n",
       "      <td>BNA0085b</td>\n",
       "      <td>Moabit GT 7</td>\n",
       "      <td>Berlin</td>\n",
       "      <td>Mineralölprodukte</td>\n",
       "      <td>1971.0</td>\n",
       "      <td>Nein</td>\n",
       "      <td>Moabit</td>\n",
       "      <td>34.0</td>\n",
       "      <td>in Betrieb</td>\n",
       "      <td>NaN</td>\n",
       "      <td>Vattenfall GmbH</td>\n",
       "    </tr>\n",
       "    <tr>\n",
       "      <th>536</th>\n",
       "      <td>06-11-01-1105604</td>\n",
       "      <td>BNA0085b</td>\n",
       "      <td>Moabit GT 7</td>\n",
       "      <td>Berlin</td>\n",
       "      <td>Mineralölprodukte</td>\n",
       "      <td>1971.0</td>\n",
       "      <td>Nein</td>\n",
       "      <td>Moabit</td>\n",
       "      <td>17.0</td>\n",
       "      <td>stillgelegt</td>\n",
       "      <td>2018</td>\n",
       "      <td>Vattenfall GmbH</td>\n",
       "    </tr>\n",
       "    <tr>\n",
       "      <th>551</th>\n",
       "      <td>662-05</td>\n",
       "      <td>BNA0083</td>\n",
       "      <td>Wilmersdorf GT1</td>\n",
       "      <td>Berlin</td>\n",
       "      <td>Mineralölprodukte</td>\n",
       "      <td>1977.0</td>\n",
       "      <td>Ja</td>\n",
       "      <td>Wilmersdorf</td>\n",
       "      <td>92.0</td>\n",
       "      <td>stillgelegt</td>\n",
       "      <td>2018</td>\n",
       "      <td>Vattenfall GmbH</td>\n",
       "    </tr>\n",
       "    <tr>\n",
       "      <th>550</th>\n",
       "      <td>662-05</td>\n",
       "      <td>BNA0083</td>\n",
       "      <td>Wilmersdorf GT2 und GT3</td>\n",
       "      <td>Berlin</td>\n",
       "      <td>Mineralölprodukte</td>\n",
       "      <td>1977.0</td>\n",
       "      <td>Ja</td>\n",
       "      <td>Wilmersdorf</td>\n",
       "      <td>184.0</td>\n",
       "      <td>in Betrieb</td>\n",
       "      <td>NaN</td>\n",
       "      <td>Vattenfall GmbH</td>\n",
       "    </tr>\n",
       "  </tbody>\n",
       "</table>\n",
       "</div>"
      ],
      "text/plain": [
       "              plantid   blockid                Blockname Bundesland  \\\n",
       "535  06-11-01-1105604  BNA0085b              Moabit GT 7     Berlin   \n",
       "536  06-11-01-1105604  BNA0085b              Moabit GT 7     Berlin   \n",
       "551            662-05   BNA0083          Wilmersdorf GT1     Berlin   \n",
       "550            662-05   BNA0083  Wilmersdorf GT2 und GT3     Berlin   \n",
       "\n",
       "         Energieträger  Inbetriebnahme   KWK Kraftwerksname  Nettoleistung  \\\n",
       "535  Mineralölprodukte          1971.0  Nein         Moabit           34.0   \n",
       "536  Mineralölprodukte          1971.0  Nein         Moabit           17.0   \n",
       "551  Mineralölprodukte          1977.0    Ja    Wilmersdorf           92.0   \n",
       "550  Mineralölprodukte          1977.0    Ja    Wilmersdorf          184.0   \n",
       "\n",
       "          Status Stilllegung      Unternehmen  \n",
       "535   in Betrieb         NaN  Vattenfall GmbH  \n",
       "536  stillgelegt        2018  Vattenfall GmbH  \n",
       "551  stillgelegt        2018  Vattenfall GmbH  \n",
       "550   in Betrieb         NaN  Vattenfall GmbH  "
      ]
     },
     "execution_count": 136,
     "metadata": {},
     "output_type": "execute_result"
    }
   ],
   "source": [
    "blocks[blocks.duplicated(['blockid'], keep=False)].sort_values(\"blockid\", ascending=False)"
   ]
  },
  {
   "cell_type": "code",
   "execution_count": 137,
   "metadata": {},
   "outputs": [],
   "source": [
    "#blocks"
   ]
  },
  {
   "cell_type": "code",
   "execution_count": 138,
   "metadata": {},
   "outputs": [],
   "source": [
    "plants_b.sort_values(\"initialop\", ascending=False, inplace=True)"
   ]
  },
  {
   "cell_type": "code",
   "execution_count": 139,
   "metadata": {},
   "outputs": [],
   "source": [
    "#drop_list = ['Blockname', 'KWK', 'Nettoleistung', 'Stilllegung', 'Straße und Hausnummer (Standort Kraftwerk)', 'PLZ', 'Ort', 'Nettoleistung']\n",
    "#plants_g = plants_f.drop(drop_list, axis=1)"
   ]
  },
  {
   "cell_type": "code",
   "execution_count": 140,
   "metadata": {},
   "outputs": [],
   "source": [
    "#plants_h = plants_g.rename(columns={\"KraftwerkID\": \"plantid\", \"Gesamtleistung\": \"totalpower\", \"Blockzahl\": \"blockcount\", \"BlockID\": \"blockid\", \"Bundesland\": \"federalstate\", \"Energieträger\": \"energysource\", \"Inbetriebnahme\": \"latestexpanded\", \"Kraftwerksname\": \"plantname\", \"Status\": \"state\", \"Unternehmen\": \"company\"})"
   ]
  },
  {
   "cell_type": "code",
   "execution_count": 141,
   "metadata": {},
   "outputs": [],
   "source": [
    "plants_final = plants_b.loc[:]"
   ]
  },
  {
   "cell_type": "code",
   "execution_count": 142,
   "metadata": {
    "scrolled": true
   },
   "outputs": [
    {
     "data": {
      "text/plain": [
       "plantid             object\n",
       "plantname           object\n",
       "federalstate      category\n",
       "energysource      category\n",
       "chp               category\n",
       "latestexpanded       int64\n",
       "initialop            int64\n",
       "totalpower         float64\n",
       "state             category\n",
       "blockcount           int64\n",
       "company             object\n",
       "dtype: object"
      ]
     },
     "execution_count": 142,
     "metadata": {},
     "output_type": "execute_result"
    }
   ],
   "source": [
    "plants_final.dtypes"
   ]
  },
  {
   "cell_type": "code",
   "execution_count": 143,
   "metadata": {},
   "outputs": [],
   "source": [
    "# plants_final"
   ]
  },
  {
   "cell_type": "code",
   "execution_count": 144,
   "metadata": {},
   "outputs": [],
   "source": [
    "# stammdaten"
   ]
  },
  {
   "cell_type": "code",
   "execution_count": 145,
   "metadata": {},
   "outputs": [],
   "source": [
    "# cols = [0,2,3,9,10,11,12]\n",
    "drop_list = ['plantid', 'Blockname', 'Energieträger', 'Inbetriebnahme', 'KWK', 'Kraftwerksname', 'Nettoleistung', 'Status', 'Stilllegung', 'Unternehmen']\n",
    "stammdaten.drop(drop_list, axis=1, inplace=True)"
   ]
  },
  {
   "cell_type": "code",
   "execution_count": 146,
   "metadata": {},
   "outputs": [],
   "source": [
    "#stammdaten.to_csv(\"stammdaten.csv\", index=False)"
   ]
  },
  {
   "cell_type": "code",
   "execution_count": 147,
   "metadata": {},
   "outputs": [],
   "source": [
    "#plants_final.to_csv(\"plants.csv\", index=False)"
   ]
  },
  {
   "cell_type": "code",
   "execution_count": 148,
   "metadata": {},
   "outputs": [],
   "source": [
    "#blocks.to_csv(\"blocks_3.csv\", index=False)"
   ]
  },
  {
   "cell_type": "code",
   "execution_count": 149,
   "metadata": {},
   "outputs": [],
   "source": [
    "stammdaten.to_csv(\"stammdaten_nh.csv\", index=False, header=False)\n",
    "blocks.to_csv(\"blocks_nh.csv\", index=False, header=False)\n",
    "plants_final.to_csv(\"plants_nh.csv\", index=False, header=False)"
   ]
  },
  {
   "cell_type": "code",
   "execution_count": 150,
   "metadata": {},
   "outputs": [],
   "source": [
    "#bm2.to_csv(\"bpm.csv\", index=False)"
   ]
  },
  {
   "cell_type": "code",
   "execution_count": 151,
   "metadata": {},
   "outputs": [],
   "source": [
    "#blocks"
   ]
  },
  {
   "cell_type": "code",
   "execution_count": 152,
   "metadata": {},
   "outputs": [
    {
     "data": {
      "text/html": [
       "<div>\n",
       "<style scoped>\n",
       "    .dataframe tbody tr th:only-of-type {\n",
       "        vertical-align: middle;\n",
       "    }\n",
       "\n",
       "    .dataframe tbody tr th {\n",
       "        vertical-align: top;\n",
       "    }\n",
       "\n",
       "    .dataframe thead th {\n",
       "        text-align: right;\n",
       "    }\n",
       "</style>\n",
       "<table border=\"1\" class=\"dataframe\">\n",
       "  <thead>\n",
       "    <tr style=\"text-align: right;\">\n",
       "      <th></th>\n",
       "      <th>plantid</th>\n",
       "      <th>blockid</th>\n",
       "      <th>Blockname</th>\n",
       "      <th>Bundesland</th>\n",
       "      <th>Inbetriebnahme</th>\n",
       "      <th>KWK</th>\n",
       "      <th>Kraftwerksname</th>\n",
       "      <th>Nettoleistung</th>\n",
       "      <th>Status</th>\n",
       "      <th>Stilllegung</th>\n",
       "      <th>Unternehmen</th>\n",
       "    </tr>\n",
       "    <tr>\n",
       "      <th>Energieträger</th>\n",
       "      <th></th>\n",
       "      <th></th>\n",
       "      <th></th>\n",
       "      <th></th>\n",
       "      <th></th>\n",
       "      <th></th>\n",
       "      <th></th>\n",
       "      <th></th>\n",
       "      <th></th>\n",
       "      <th></th>\n",
       "      <th></th>\n",
       "    </tr>\n",
       "  </thead>\n",
       "  <tbody>\n",
       "    <tr>\n",
       "      <th>Braunkohle</th>\n",
       "      <td>77</td>\n",
       "      <td>77</td>\n",
       "      <td>69</td>\n",
       "      <td>77</td>\n",
       "      <td>77</td>\n",
       "      <td>74</td>\n",
       "      <td>76</td>\n",
       "      <td>77</td>\n",
       "      <td>77</td>\n",
       "      <td>17</td>\n",
       "      <td>77</td>\n",
       "    </tr>\n",
       "    <tr>\n",
       "      <th>Erdgas</th>\n",
       "      <td>315</td>\n",
       "      <td>315</td>\n",
       "      <td>216</td>\n",
       "      <td>315</td>\n",
       "      <td>315</td>\n",
       "      <td>299</td>\n",
       "      <td>304</td>\n",
       "      <td>315</td>\n",
       "      <td>312</td>\n",
       "      <td>35</td>\n",
       "      <td>312</td>\n",
       "    </tr>\n",
       "    <tr>\n",
       "      <th>Kernenergie</th>\n",
       "      <td>9</td>\n",
       "      <td>9</td>\n",
       "      <td>9</td>\n",
       "      <td>9</td>\n",
       "      <td>9</td>\n",
       "      <td>9</td>\n",
       "      <td>9</td>\n",
       "      <td>9</td>\n",
       "      <td>9</td>\n",
       "      <td>3</td>\n",
       "      <td>9</td>\n",
       "    </tr>\n",
       "    <tr>\n",
       "      <th>Mineralölprodukte</th>\n",
       "      <td>56</td>\n",
       "      <td>56</td>\n",
       "      <td>47</td>\n",
       "      <td>56</td>\n",
       "      <td>56</td>\n",
       "      <td>55</td>\n",
       "      <td>56</td>\n",
       "      <td>56</td>\n",
       "      <td>51</td>\n",
       "      <td>10</td>\n",
       "      <td>56</td>\n",
       "    </tr>\n",
       "    <tr>\n",
       "      <th>Steinkohle</th>\n",
       "      <td>120</td>\n",
       "      <td>120</td>\n",
       "      <td>107</td>\n",
       "      <td>120</td>\n",
       "      <td>120</td>\n",
       "      <td>108</td>\n",
       "      <td>119</td>\n",
       "      <td>120</td>\n",
       "      <td>112</td>\n",
       "      <td>43</td>\n",
       "      <td>120</td>\n",
       "    </tr>\n",
       "  </tbody>\n",
       "</table>\n",
       "</div>"
      ],
      "text/plain": [
       "                   plantid  blockid  Blockname  Bundesland  Inbetriebnahme  \\\n",
       "Energieträger                                                                \n",
       "Braunkohle              77       77         69          77              77   \n",
       "Erdgas                 315      315        216         315             315   \n",
       "Kernenergie              9        9          9           9               9   \n",
       "Mineralölprodukte       56       56         47          56              56   \n",
       "Steinkohle             120      120        107         120             120   \n",
       "\n",
       "                   KWK  Kraftwerksname  Nettoleistung  Status  Stilllegung  \\\n",
       "Energieträger                                                                \n",
       "Braunkohle          74              76             77      77           17   \n",
       "Erdgas             299             304            315     312           35   \n",
       "Kernenergie          9               9              9       9            3   \n",
       "Mineralölprodukte   55              56             56      51           10   \n",
       "Steinkohle         108             119            120     112           43   \n",
       "\n",
       "                   Unternehmen  \n",
       "Energieträger                   \n",
       "Braunkohle                  77  \n",
       "Erdgas                     312  \n",
       "Kernenergie                  9  \n",
       "Mineralölprodukte           56  \n",
       "Steinkohle                 120  "
      ]
     },
     "execution_count": 152,
     "metadata": {},
     "output_type": "execute_result"
    }
   ],
   "source": [
    "blocks.groupby('Energieträger').count()"
   ]
  },
  {
   "cell_type": "code",
   "execution_count": 153,
   "metadata": {},
   "outputs": [],
   "source": [
    "pl4 = blocks.loc[blocks['Energieträger'] == \"Mineralölprodukte\"]"
   ]
  },
  {
   "cell_type": "code",
   "execution_count": 154,
   "metadata": {},
   "outputs": [],
   "source": [
    "#pl4"
   ]
  },
  {
   "cell_type": "code",
   "execution_count": 155,
   "metadata": {},
   "outputs": [],
   "source": [
    "#pd.set_option('display.max_rows', None)"
   ]
  },
  {
   "cell_type": "code",
   "execution_count": 156,
   "metadata": {},
   "outputs": [],
   "source": [
    "#pl4.loc[pl4['Energieträger'] == \"Mineralölprodukte\"].sort_values([\"Bundesland\", \"Unternehmen\", \"Kraftwerksname\"])"
   ]
  },
  {
   "cell_type": "code",
   "execution_count": null,
   "metadata": {},
   "outputs": [],
   "source": []
  }
 ],
 "metadata": {
  "kernelspec": {
   "display_name": "Python 3",
   "language": "python",
   "name": "python3"
  },
  "language_info": {
   "codemirror_mode": {
    "name": "ipython",
    "version": 3
   },
   "file_extension": ".py",
   "mimetype": "text/x-python",
   "name": "python",
   "nbconvert_exporter": "python",
   "pygments_lexer": "ipython3",
   "version": "3.7.7"
  }
 },
 "nbformat": 4,
 "nbformat_minor": 4
}
