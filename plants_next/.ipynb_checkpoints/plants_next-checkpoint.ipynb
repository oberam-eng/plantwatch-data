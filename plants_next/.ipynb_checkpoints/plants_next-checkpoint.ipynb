{
 "cells": [
  {
   "cell_type": "code",
   "execution_count": 77,
   "metadata": {},
   "outputs": [],
   "source": [
    "import pandas as pd\n",
    "import numpy as np"
   ]
  },
  {
   "cell_type": "code",
   "execution_count": 78,
   "metadata": {},
   "outputs": [],
   "source": [
    "pl0 = pd.read_csv(\"Plants_next.csv\")"
   ]
  },
  {
   "cell_type": "code",
   "execution_count": 79,
   "metadata": {},
   "outputs": [],
   "source": [
    "# pl0"
   ]
  },
  {
   "cell_type": "code",
   "execution_count": 80,
   "metadata": {},
   "outputs": [
    {
     "data": {
      "text/html": [
       "<div>\n",
       "<style scoped>\n",
       "    .dataframe tbody tr th:only-of-type {\n",
       "        vertical-align: middle;\n",
       "    }\n",
       "\n",
       "    .dataframe tbody tr th {\n",
       "        vertical-align: top;\n",
       "    }\n",
       "\n",
       "    .dataframe thead th {\n",
       "        text-align: right;\n",
       "    }\n",
       "</style>\n",
       "<table border=\"1\" class=\"dataframe\">\n",
       "  <thead>\n",
       "    <tr style=\"text-align: right;\">\n",
       "      <th></th>\n",
       "      <th>plantid</th>\n",
       "      <th>name</th>\n",
       "      <th>KWK</th>\n",
       "      <th>Ersatz</th>\n",
       "      <th>Weiterbetrieb</th>\n",
       "      <th>Sonderfall</th>\n",
       "      <th>Unnamed: 7</th>\n",
       "    </tr>\n",
       "    <tr>\n",
       "      <th>ersetzt?</th>\n",
       "      <th></th>\n",
       "      <th></th>\n",
       "      <th></th>\n",
       "      <th></th>\n",
       "      <th></th>\n",
       "      <th></th>\n",
       "      <th></th>\n",
       "    </tr>\n",
       "  </thead>\n",
       "  <tbody>\n",
       "    <tr>\n",
       "      <th>Nein</th>\n",
       "      <td>13</td>\n",
       "      <td>13</td>\n",
       "      <td>13</td>\n",
       "      <td>0</td>\n",
       "      <td>3</td>\n",
       "      <td>2</td>\n",
       "      <td>1</td>\n",
       "    </tr>\n",
       "  </tbody>\n",
       "</table>\n",
       "</div>"
      ],
      "text/plain": [
       "          plantid  name  KWK  Ersatz  Weiterbetrieb  Sonderfall  Unnamed: 7\n",
       "ersetzt?                                                                   \n",
       "Nein           13    13   13       0              3           2           1"
      ]
     },
     "execution_count": 80,
     "metadata": {},
     "output_type": "execute_result"
    }
   ],
   "source": [
    "pl0.loc[pl0[\"ersetzt?\"] == \"Nein\"].groupby(\"ersetzt?\").count()"
   ]
  },
  {
   "cell_type": "code",
   "execution_count": 81,
   "metadata": {},
   "outputs": [],
   "source": [
    "pl1 = pl0.groupby([\"Ersatz\"]).count().reset_index()"
   ]
  },
  {
   "cell_type": "code",
   "execution_count": 82,
   "metadata": {},
   "outputs": [],
   "source": [
    "pl2 = pl1.rename(columns={ \"plantid\": \"count\"})\n",
    "cols = [2, 3, 4, 5, 6, 7]\n",
    "pl3 = pl2.drop(pl2.columns[cols],axis=1)"
   ]
  },
  {
   "cell_type": "code",
   "execution_count": 83,
   "metadata": {
    "scrolled": true
   },
   "outputs": [
    {
     "data": {
      "text/plain": [
       "Ersatz    object\n",
       "count      int64\n",
       "dtype: object"
      ]
     },
     "execution_count": 83,
     "metadata": {},
     "output_type": "execute_result"
    }
   ],
   "source": [
    "pl3.dtypes"
   ]
  },
  {
   "cell_type": "code",
   "execution_count": null,
   "metadata": {},
   "outputs": [],
   "source": []
  },
  {
   "cell_type": "code",
   "execution_count": 84,
   "metadata": {},
   "outputs": [],
   "source": [
    "pl4 = pl3.loc[:]"
   ]
  },
  {
   "cell_type": "code",
   "execution_count": 85,
   "metadata": {},
   "outputs": [],
   "source": [
    "pl4.loc[pl4.Ersatz==\"800x1\", 'netpower'] = 80.7\n",
    "pl4.loc[pl4.Ersatz==\"800x2\", 'netpower'] = 161.1\n",
    "pl4.loc[pl4.Ersatz==\"9000x1\", 'netpower'] = 837.9\n",
    "pl4.loc[pl4.Ersatz==\"9000x2\", 'netpower'] = 1675.8"
   ]
  },
  {
   "cell_type": "code",
   "execution_count": 86,
   "metadata": {},
   "outputs": [],
   "source": [
    "pl4.loc[pl4.Ersatz==\"800x1\", 'cost'] = 100\n",
    "pl4.loc[pl4.Ersatz==\"800x2\", 'cost'] = 200\n",
    "pl4.loc[pl4.Ersatz==\"9000x1\", 'cost'] = 450\n",
    "pl4.loc[pl4.Ersatz==\"9000x2\", 'cost'] = 800"
   ]
  },
  {
   "cell_type": "code",
   "execution_count": 87,
   "metadata": {},
   "outputs": [
    {
     "data": {
      "text/plain": [
       "Ersatz       object\n",
       "count         int64\n",
       "netpower    float64\n",
       "cost        float64\n",
       "dtype: object"
      ]
     },
     "execution_count": 87,
     "metadata": {},
     "output_type": "execute_result"
    }
   ],
   "source": [
    "pl4.dtypes"
   ]
  },
  {
   "cell_type": "code",
   "execution_count": 88,
   "metadata": {},
   "outputs": [],
   "source": [
    "pl5 = pl4.loc[:]"
   ]
  },
  {
   "cell_type": "code",
   "execution_count": 89,
   "metadata": {},
   "outputs": [],
   "source": [
    "# pl5.loc[\"totalpower\"] = pl5.loc[\"netpower\"] * pl5.loc[\"count\"]\n",
    "pl5['totalpower'] = pl5[\"netpower\"] * pl5[\"count\"]\n",
    "pl5['totalcost'] = pl5[\"cost\"] * pl5[\"count\"]\n",
    "#pl5['totalpower'] = "
   ]
  },
  {
   "cell_type": "code",
   "execution_count": 90,
   "metadata": {},
   "outputs": [],
   "source": [
    "pl6 = pl5.loc[:]"
   ]
  },
  {
   "cell_type": "code",
   "execution_count": 91,
   "metadata": {},
   "outputs": [],
   "source": [
    "#pl6['1500'] = (pl6[\"totalpower\"] * 1500) / 10**6\n",
    "pl6['3000'] = (pl6[\"totalpower\"] * 3000) / 10**6\n",
    "pl6['4500'] = (pl6[\"totalpower\"] * 4500) / 10**6\n",
    "#pl6['6000'] = (pl6[\"totalpower\"] * 6000) / 10**6"
   ]
  },
  {
   "cell_type": "code",
   "execution_count": 92,
   "metadata": {},
   "outputs": [],
   "source": [
    "#pl7 = pl6.loc[:, [\"count\",\"netpower\",\"totalpower\",\"1500\", \"3000\", \"6000\"]]"
   ]
  },
  {
   "cell_type": "code",
   "execution_count": 93,
   "metadata": {},
   "outputs": [],
   "source": [
    "#pl7"
   ]
  },
  {
   "cell_type": "code",
   "execution_count": 94,
   "metadata": {},
   "outputs": [
    {
     "data": {
      "text/html": [
       "<div>\n",
       "<style scoped>\n",
       "    .dataframe tbody tr th:only-of-type {\n",
       "        vertical-align: middle;\n",
       "    }\n",
       "\n",
       "    .dataframe tbody tr th {\n",
       "        vertical-align: top;\n",
       "    }\n",
       "\n",
       "    .dataframe thead th {\n",
       "        text-align: right;\n",
       "    }\n",
       "</style>\n",
       "<table border=\"1\" class=\"dataframe\">\n",
       "  <thead>\n",
       "    <tr style=\"text-align: right;\">\n",
       "      <th></th>\n",
       "      <th>Ersatz</th>\n",
       "      <th>count</th>\n",
       "      <th>netpower</th>\n",
       "      <th>cost</th>\n",
       "      <th>totalpower</th>\n",
       "      <th>totalcost</th>\n",
       "      <th>3000</th>\n",
       "      <th>4500</th>\n",
       "    </tr>\n",
       "  </thead>\n",
       "  <tbody>\n",
       "    <tr>\n",
       "      <th>0</th>\n",
       "      <td>800x1</td>\n",
       "      <td>26.0</td>\n",
       "      <td>80.7</td>\n",
       "      <td>100.0</td>\n",
       "      <td>2098.2</td>\n",
       "      <td>2600.0</td>\n",
       "      <td>6.2946</td>\n",
       "      <td>9.44190</td>\n",
       "    </tr>\n",
       "    <tr>\n",
       "      <th>1</th>\n",
       "      <td>800x2</td>\n",
       "      <td>22.0</td>\n",
       "      <td>161.1</td>\n",
       "      <td>200.0</td>\n",
       "      <td>3544.2</td>\n",
       "      <td>4400.0</td>\n",
       "      <td>10.6326</td>\n",
       "      <td>15.94890</td>\n",
       "    </tr>\n",
       "    <tr>\n",
       "      <th>2</th>\n",
       "      <td>9000x1</td>\n",
       "      <td>3.0</td>\n",
       "      <td>837.9</td>\n",
       "      <td>450.0</td>\n",
       "      <td>2513.7</td>\n",
       "      <td>1350.0</td>\n",
       "      <td>7.5411</td>\n",
       "      <td>11.31165</td>\n",
       "    </tr>\n",
       "    <tr>\n",
       "      <th>3</th>\n",
       "      <td>9000x2</td>\n",
       "      <td>1.0</td>\n",
       "      <td>1675.8</td>\n",
       "      <td>800.0</td>\n",
       "      <td>1675.8</td>\n",
       "      <td>800.0</td>\n",
       "      <td>5.0274</td>\n",
       "      <td>7.54110</td>\n",
       "    </tr>\n",
       "    <tr>\n",
       "      <th>4</th>\n",
       "      <td>NaN</td>\n",
       "      <td>52.0</td>\n",
       "      <td>2755.5</td>\n",
       "      <td>1550.0</td>\n",
       "      <td>9831.9</td>\n",
       "      <td>9150.0</td>\n",
       "      <td>29.4957</td>\n",
       "      <td>44.24355</td>\n",
       "    </tr>\n",
       "  </tbody>\n",
       "</table>\n",
       "</div>"
      ],
      "text/plain": [
       "   Ersatz  count  netpower    cost  totalpower  totalcost     3000      4500\n",
       "0   800x1   26.0      80.7   100.0      2098.2     2600.0   6.2946   9.44190\n",
       "1   800x2   22.0     161.1   200.0      3544.2     4400.0  10.6326  15.94890\n",
       "2  9000x1    3.0     837.9   450.0      2513.7     1350.0   7.5411  11.31165\n",
       "3  9000x2    1.0    1675.8   800.0      1675.8      800.0   5.0274   7.54110\n",
       "4     NaN   52.0    2755.5  1550.0      9831.9     9150.0  29.4957  44.24355"
      ]
     },
     "execution_count": 94,
     "metadata": {},
     "output_type": "execute_result"
    }
   ],
   "source": [
    "pl6.append(pl6.sum(numeric_only=True), ignore_index=True)"
   ]
  },
  {
   "cell_type": "code",
   "execution_count": 95,
   "metadata": {},
   "outputs": [],
   "source": [
    "# newdf['Stilllegung'] = newdf['Stilllegung'].astype(int)\n",
    "#newdf['Stilllegung'] = newdf['Stilllegung'].apply(lambda x: int(x) if x == x else None)"
   ]
  },
  {
   "cell_type": "code",
   "execution_count": 96,
   "metadata": {},
   "outputs": [],
   "source": [
    "sgt5_800 = pl0.loc[np.logical_or(pl0.Ersatz == \"800x1\", pl0.Ersatz == \"800x2\")]\n",
    "#sgt5_800 = sgt5_800.loc[sgt5_800.Weiterbetrieb != \"Ja\"]"
   ]
  },
  {
   "cell_type": "code",
   "execution_count": 97,
   "metadata": {},
   "outputs": [],
   "source": [
    "#sgt5_800"
   ]
  },
  {
   "cell_type": "code",
   "execution_count": 98,
   "metadata": {},
   "outputs": [],
   "source": [
    "sgt5_9000 = pl0.loc[np.logical_or(pl0.Ersatz == \"9000x1\", pl0.Ersatz == \"9000x2\")]\n",
    "#sgt5_800 = sgt5_800.loc[sgt5_800.Weiterbetrieb != \"Ja\"]"
   ]
  },
  {
   "cell_type": "code",
   "execution_count": 99,
   "metadata": {},
   "outputs": [],
   "source": [
    "#sgt5_9000"
   ]
  },
  {
   "cell_type": "code",
   "execution_count": 102,
   "metadata": {},
   "outputs": [],
   "source": [
    "#for row in sgt5_9000.iterrows():\n",
    "    #print(row == pl0.iloc[0])\n",
    "    #print(type(row[1]))\n",
    "    #print(\"\\n\")\n",
    "    #print(sgt5_9000.iloc[0])\n",
    "    #break"
   ]
  },
  {
   "cell_type": "code",
   "execution_count": null,
   "metadata": {},
   "outputs": [],
   "source": []
  }
 ],
 "metadata": {
  "kernelspec": {
   "display_name": "Python 3",
   "language": "python",
   "name": "python3"
  },
  "language_info": {
   "codemirror_mode": {
    "name": "ipython",
    "version": 3
   },
   "file_extension": ".py",
   "mimetype": "text/x-python",
   "name": "python",
   "nbconvert_exporter": "python",
   "pygments_lexer": "ipython3",
   "version": "3.7.0"
  }
 },
 "nbformat": 4,
 "nbformat_minor": 2
}
