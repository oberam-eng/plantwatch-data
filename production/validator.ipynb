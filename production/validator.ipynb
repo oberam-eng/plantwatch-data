{
 "cells": [
  {
   "cell_type": "code",
   "execution_count": 115,
   "metadata": {},
   "outputs": [],
   "source": [
    "import os\n",
    "from os import listdir, stat\n",
    "from os.path import isfile, join\n",
    "import re"
   ]
  },
  {
   "cell_type": "code",
   "execution_count": 116,
   "metadata": {},
   "outputs": [],
   "source": [
    "test = \"Datum;Uhrzeit;Generation_DE R[MW];Generation_DE Q[MW];Generation_DE P[MW];Generation_DE N[MW]\"\n",
    "test2 = \"05.01.2015;00:00;;-;300;;;;;;;;;;;;; \""
   ]
  },
  {
   "cell_type": "code",
   "execution_count": 117,
   "metadata": {},
   "outputs": [
    {
     "data": {
      "text/plain": [
       "'\\ufeffDate;Time of day;Generation_DE GT1 & GT2[MW];Generation_DE BMHeizkraftwerk[MW];Generation_DE Zolling Block 5[MW]\\n'"
      ]
     },
     "execution_count": 117,
     "metadata": {},
     "output_type": "execute_result"
    }
   ],
   "source": [
    "h"
   ]
  },
  {
   "cell_type": "code",
   "execution_count": 183,
   "metadata": {},
   "outputs": [],
   "source": [
    "HEADER_EXP = re.compile(\"((Datum)|(Date));((Time of day|Uhrzeit));((Generation_DE (\\w*(\\s?)\\&?)*\\[MW\\]);?)*$\")\n",
    "LINE_EXP = re.compile(\"(\\d\\d.\\d\\d.\\d{4});(\\d\\d:\\d\\d);(\\d+|(.\\d\\d\\d)|-|;)*$\")"
   ]
  },
  {
   "cell_type": "code",
   "execution_count": 190,
   "metadata": {},
   "outputs": [],
   "source": [
    "MIN_SIZE = 512\n",
    "BASE_DIR = \".\"\n",
    "FOLDERS = [os.path.join(BASE_DIR, o) for o in os.listdir(BASE_DIR) if os.path.isdir(os.path.join(BASE_DIR,o))]\n",
    "FOLDERS.sort()\n",
    "FOLDERS = FOLDERS[1:-1]"
   ]
  },
  {
   "cell_type": "code",
   "execution_count": 161,
   "metadata": {},
   "outputs": [],
   "source": [
    "hm = HEADER_EXP.fullmatch(test)"
   ]
  },
  {
   "cell_type": "code",
   "execution_count": 162,
   "metadata": {},
   "outputs": [
    {
     "data": {
      "text/plain": [
       "<re.Match object; span=(0, 93), match='Datum;Uhrzeit;Generation_DE R[MW];Generation_DE Q>"
      ]
     },
     "execution_count": 162,
     "metadata": {},
     "output_type": "execute_result"
    }
   ],
   "source": [
    "hm"
   ]
  },
  {
   "cell_type": "code",
   "execution_count": 163,
   "metadata": {},
   "outputs": [],
   "source": [
    "def get_files_from_folder(folder):\n",
    "    onlyfiles = [folder + \"/\" + f for f in listdir(folder) if isfile(join(folder, f))]\n",
    "    onlyfiles.sort()\n",
    "    files = [f for f in onlyfiles if stat(f).st_size > MIN_SIZE]\n",
    "    return files"
   ]
  },
  {
   "cell_type": "code",
   "execution_count": 164,
   "metadata": {},
   "outputs": [],
   "source": [
    "FILES_L = [get_files_from_folder(f) for f in FOLDERS]\n",
    "FILES = [item for sublist in FILES_L for item in sublist]"
   ]
  },
  {
   "cell_type": "code",
   "execution_count": 165,
   "metadata": {},
   "outputs": [],
   "source": [
    "#FILES"
   ]
  },
  {
   "cell_type": "code",
   "execution_count": 166,
   "metadata": {},
   "outputs": [],
   "source": [
    "#FILES"
   ]
  },
  {
   "cell_type": "code",
   "execution_count": 167,
   "metadata": {},
   "outputs": [
    {
     "data": {
      "text/plain": [
       "'./2018_19/Zolling_201801010000_201912312345_101.csv'"
      ]
     },
     "execution_count": 167,
     "metadata": {},
     "output_type": "execute_result"
    }
   ],
   "source": [
    "file"
   ]
  },
  {
   "cell_type": "code",
   "execution_count": 168,
   "metadata": {},
   "outputs": [],
   "source": [
    "myfile = FILES[0]\n",
    "with open(file, 'r') as myfile:\n",
    "    tmp = myfile.readlines()"
   ]
  },
  {
   "cell_type": "code",
   "execution_count": 169,
   "metadata": {},
   "outputs": [
    {
     "ename": "NameError",
     "evalue": "name 'Gaskraftwerk_Irsching_201501010000_201512312345_97' is not defined",
     "output_type": "error",
     "traceback": [
      "\u001b[0;31m---------------------------------------------------------------------------\u001b[0m",
      "\u001b[0;31mNameError\u001b[0m                                 Traceback (most recent call last)",
      "\u001b[0;32m<ipython-input-169-f29f125cea53>\u001b[0m in \u001b[0;36m<module>\u001b[0;34m\u001b[0m\n\u001b[0;32m----> 1\u001b[0;31m \u001b[0mGaskraftwerk_Irsching_201501010000_201512312345_97\u001b[0m\u001b[0;34m.\u001b[0m\u001b[0mcsv\u001b[0m\u001b[0;34m\u001b[0m\u001b[0;34m\u001b[0m\u001b[0m\n\u001b[0m",
      "\u001b[0;31mNameError\u001b[0m: name 'Gaskraftwerk_Irsching_201501010000_201512312345_97' is not defined"
     ]
    }
   ],
   "source": [
    "Gaskraftwerk_Irsching_201501010000_201512312345_97.csv"
   ]
  },
  {
   "cell_type": "code",
   "execution_count": 170,
   "metadata": {},
   "outputs": [],
   "source": [
    "h, l = get_lines(\"2015/Gaskraftwerk_Irsching_201501010000_201512312345_97.csv\")"
   ]
  },
  {
   "cell_type": "code",
   "execution_count": 171,
   "metadata": {},
   "outputs": [
    {
     "data": {
      "text/plain": [
       "'Datum;Uhrzeit;Generation_DE 4.0[MW];Generation_DE 3.0[MW];Generation_DE 5.0[MW]\\n'"
      ]
     },
     "execution_count": 171,
     "metadata": {},
     "output_type": "execute_result"
    }
   ],
   "source": [
    "h[1:]"
   ]
  },
  {
   "cell_type": "code",
   "execution_count": 172,
   "metadata": {},
   "outputs": [],
   "source": [
    "t = HEADER_EXP.match(h[1:])"
   ]
  },
  {
   "cell_type": "code",
   "execution_count": 173,
   "metadata": {},
   "outputs": [
    {
     "data": {
      "text/plain": [
       "<re.Match object; span=(0, 79), match='Datum;Uhrzeit;Generation_DE 4.0[MW];Generation_DE>"
      ]
     },
     "execution_count": 173,
     "metadata": {},
     "output_type": "execute_result"
    }
   ],
   "source": [
    "t"
   ]
  },
  {
   "cell_type": "code",
   "execution_count": 174,
   "metadata": {},
   "outputs": [
    {
     "data": {
      "text/plain": [
       "'Date;Time of day;Generation_DE GT1 & GT2[MW];Generation_DE BMHeizkraftwerk[MW];Generation_DE Zolling Block 5[MW]\\n'"
      ]
     },
     "execution_count": 174,
     "metadata": {},
     "output_type": "execute_result"
    }
   ],
   "source": [
    "tmp[0][1:]"
   ]
  },
  {
   "cell_type": "code",
   "execution_count": 175,
   "metadata": {},
   "outputs": [
    {
     "data": {
      "text/plain": [
       "['./2015', './2016_17', './2018_19']"
      ]
     },
     "execution_count": 175,
     "metadata": {},
     "output_type": "execute_result"
    }
   ],
   "source": [
    "FOLDERS"
   ]
  },
  {
   "cell_type": "code",
   "execution_count": 176,
   "metadata": {},
   "outputs": [],
   "source": [
    "#records"
   ]
  },
  {
   "cell_type": "code",
   "execution_count": 177,
   "metadata": {},
   "outputs": [],
   "source": [
    "records = {}\n",
    "for file in FILES:\n",
    "    with open(file, 'r') as myfile:\n",
    "        tmp = myfile.readlines()\n",
    "        records[file] = {'header': tmp[0], 'data': tmp[1:]}\n",
    "        "
   ]
  },
  {
   "cell_type": "code",
   "execution_count": 178,
   "metadata": {},
   "outputs": [],
   "source": [
    "#records"
   ]
  },
  {
   "cell_type": "code",
   "execution_count": 179,
   "metadata": {},
   "outputs": [],
   "source": [
    "def get_lines(file):\n",
    "    with open(file, 'r') as myfile:\n",
    "        tmp = myfile.readlines()\n",
    "        return tmp[0], tmp[1:]"
   ]
  },
  {
   "cell_type": "code",
   "execution_count": 191,
   "metadata": {},
   "outputs": [],
   "source": [
    "RESULT = result"
   ]
  },
  {
   "cell_type": "code",
   "execution_count": 192,
   "metadata": {},
   "outputs": [
    {
     "name": "stdout",
     "output_type": "stream",
     "text": [
      "83\n"
     ]
    }
   ],
   "source": [
    "result = {}\n",
    "for file in FILES:\n",
    "    #print(file)\n",
    "    tmp = []\n",
    "    valid = True\n",
    "    header, lines = get_lines(file)\n",
    "    h = HEADER_EXP.match(header[1:])\n",
    "    if not h:\n",
    "        valid = False\n",
    "        tmp.append(-1)\n",
    "    for idx, line in enumerate(lines):\n",
    "        x = LINE_EXP.match(line)\n",
    "        if not x:\n",
    "            tmp.append(idx)\n",
    "            valid = False\n",
    "    if not valid:\n",
    "        result[file] = tmp\n",
    "    \n",
    "print(len(result))"
   ]
  },
  {
   "cell_type": "code",
   "execution_count": 194,
   "metadata": {},
   "outputs": [],
   "source": [
    "#result"
   ]
  },
  {
   "cell_type": "code",
   "execution_count": 195,
   "metadata": {},
   "outputs": [
    {
     "name": "stdout",
     "output_type": "stream",
     "text": [
      "./2015/Burghausen_GT_201501010000_201512312345_36.csv\n",
      "./2015/Dormagen_201501010000_201512312345_70.csv\n",
      "./2015/Duisburg_Heizkraftwerk_III_201501010000_201512312345_18.csv\n",
      "./2015/E-Werk_Wilhelmshaven_201501010000_201512312345_79.csv\n",
      "./2015/Franken_1_201501010000_201512312345_104.csv\n",
      "./2015/Gas-und-Dampfturbinen_Kraftwerk_Mitte_201501010000_201512312345_49.csv\n",
      "./2015/Gaskraftwerk_Irsching_201501010000_201512312345_97.csv\n",
      "./2015/Heizkraftwerk_Altbach_Deizisau_201501010000_201512312345_10.csv\n",
      "./2015/Heizkraftwerk_Dresden-Nossener_Br_cke_201501010000_201512312345_92.csv\n",
      "./2015/Heizkraftwerk_Hagen-Kabel_201501010000_201512312345_131.csv\n",
      "./2015/Heizkraftwerk_Lausward_201501010000_201512312345_74.csv\n",
      "./2015/Heizkraftwerk_Merkenich_201501010000_201512312345_102.csv\n",
      "./2015/Heizkraftwerk_Niehl_201501010000_201512312345_93.csv\n",
      "./2015/Heizkraftwerk_R_merbr_cke_201501010000_201512312345_73.csv\n",
      "./2015/Heyden_201501010000_201512312345_140.csv\n",
      "./2015/Kraftwerk_BASF_Ludwigshafen_Mitte_201501010000_201512312345_20.csv\n",
      "./2015/Kraftwerk_BASF_Ludwigshafen_S_d_201501010000_201512312345_42.csv\n",
      "./2015/Kraftwerk_Ingolstadt_201501010000_201512312345_100.csv\n",
      "./2015/Kraftwerk_Werdohl-Elverlingsen_201501010000_201512312345_15.csv\n",
      "./2015/M_nchen_Nord_2_201501010000_201512312345_63.csv\n",
      "./2015/Rheinkraftwerk_Iffezheim_201501010000_201512312345_81.csv\n",
      "./2015/Staudinger_201501010000_201512312345_88.csv\n",
      "./2015/Tiefstack_201501010000_201512312345_31.csv\n",
      "./2016_17/Burghausen_GT_201601010000_201712312345_36.csv\n",
      "./2016_17/Datteln_201601010000_201712312345_156.csv\n",
      "./2016_17/Dormagen_201601010000_201712312345_70.csv\n",
      "./2016_17/Duisburg_Heizkraftwerk_III_201601010000_201712312345_18.csv\n",
      "./2016_17/E-Werk_Wilhelmshaven_201601010000_201712312345_79.csv\n",
      "./2016_17/Franken_1_201601010000_201712312345_104.csv\n",
      "./2016_17/Gas-und-Dampfturbinen_Kraftwerk_Mitte_201601010000_201712312345_49.csv\n",
      "./2016_17/Gaskraftwerk_Irsching_201601010000_201712312345_97.csv\n",
      "./2016_17/Heizkraftwerk_Altbach_Deizisau_201601010000_201712312345_10.csv\n",
      "./2016_17/Heizkraftwerk_Dresden-Nossener_Br_cke_201601010000_201712312345_92.csv\n",
      "./2016_17/Heizkraftwerk_Hagen-Kabel_201601010000_201712312345_131.csv\n",
      "./2016_17/Heizkraftwerk_Lausward_201601010000_201712312345_74.csv\n",
      "./2016_17/Heizkraftwerk_Merkenich_201601010000_201712312345_102.csv\n",
      "./2016_17/Heizkraftwerk_Niehl_201601010000_201712312345_93.csv\n",
      "./2016_17/Heizkraftwerk_R_merbr_cke_201601010000_201712312345_73.csv\n",
      "./2016_17/Heyden_201601010000_201712312345_140.csv\n",
      "./2016_17/Kraftwerk_BASF_Ludwigshafen_Mitte_201601010000_201712312345_20.csv\n",
      "./2016_17/Kraftwerk_BASF_Ludwigshafen_S_d_201601010000_201712312345_42.csv\n",
      "./2016_17/Kraftwerk_Ingolstadt_201601010000_201712312345_100.csv\n",
      "./2016_17/Kraftwerk_Werdohl-Elverlingsen_201601010000_201712312345_15.csv\n",
      "./2016_17/M_nchen_Nord_2_201601010000_201712312345_63.csv\n",
      "./2016_17/Rheinkraftwerk_Iffezheim_201601010000_201712312345_81.csv\n",
      "./2016_17/Staudinger_201601010000_201712312345_88.csv\n",
      "./2016_17/Tiefstack_201601010000_201712312345_31.csv\n",
      "./2018_19/Burghausen_GT_201801010000_201912312345_36.csv\n",
      "./2018_19/Datteln_201801010000_201912312345_156.csv\n",
      "./2018_19/Dormagen_201801010000_201912312345_70.csv\n",
      "./2018_19/Duisburg_Heizkraftwerk_III_201801010000_201912312345_18.csv\n",
      "./2018_19/E-Werk_Wilhelmshaven_201801010000_201912312345_79.csv\n",
      "./2018_19/Franken_1_201801010000_201912312345_104.csv\n",
      "./2018_19/Gas-und-Dampfturbinen_Kraftwerk_Mitte_201801010000_201912312345_49.csv\n",
      "./2018_19/Gaskraftwerk_Irsching_201801010000_201912312345_97.csv\n",
      "./2018_19/Heizkraftwerk_Altbach_Deizisau_201801010000_201912312345_10.csv\n",
      "./2018_19/Heizkraftwerk_Dresden-Nossener_Br_cke_201801010000_201912312345_92.csv\n",
      "./2018_19/Heizkraftwerk_Hagen-Kabel_201801010000_201912312345_131.csv\n",
      "./2018_19/Heizkraftwerk_Lausward_201801010000_201912312345_74.csv\n",
      "./2018_19/Heizkraftwerk_Merkenich_201801010000_201912312345_102.csv\n",
      "./2018_19/Heizkraftwerk_Niehl_201801010000_201912312345_93.csv\n",
      "./2018_19/Heizkraftwerk_R_merbr_cke_201801010000_201912312345_73.csv\n",
      "./2018_19/Heyden_201801010000_201912312345_140.csv\n",
      "./2018_19/Kraftwerk_BASF_Ludwigshafen_Mitte_201801010000_201912312345_20.csv\n",
      "./2018_19/Kraftwerk_BASF_Ludwigshafen_S_d_201801010000_201912312345_42.csv\n",
      "./2018_19/Kraftwerk_Ingolstadt_201801010000_201912312345_100.csv\n",
      "./2018_19/Kraftwerk_Werdohl-Elverlingsen_201801010000_201912312345_15.csv\n",
      "./2018_19/M_nchen_Nord_2_201801010000_201912312345_63.csv\n",
      "./2018_19/Rheinkraftwerk_Iffezheim_201801010000_201912312345_81.csv\n",
      "./2018_19/Staudinger_201801010000_201912312345_88.csv\n",
      "./2018_19/Tiefstack_201801010000_201912312345_31.csv\n"
     ]
    }
   ],
   "source": [
    "for k, v in result.items():\n",
    "    #print(v)\n",
    "    if -1 in v:\n",
    "        print(k)"
   ]
  },
  {
   "cell_type": "code",
   "execution_count": null,
   "metadata": {},
   "outputs": [],
   "source": [
    "#data[0]"
   ]
  },
  {
   "cell_type": "code",
   "execution_count": null,
   "metadata": {},
   "outputs": [],
   "source": []
  },
  {
   "cell_type": "code",
   "execution_count": null,
   "metadata": {},
   "outputs": [],
   "source": []
  },
  {
   "cell_type": "code",
   "execution_count": 198,
   "metadata": {},
   "outputs": [
    {
     "data": {
      "text/plain": [
       "[1, 2, 3, 4, 5, 6, 7, 8, 9, 10, 11, 12]"
      ]
     },
     "execution_count": 198,
     "metadata": {},
     "output_type": "execute_result"
    }
   ],
   "source": [
    "list(range(1,13))"
   ]
  },
  {
   "cell_type": "code",
   "execution_count": null,
   "metadata": {},
   "outputs": [],
   "source": []
  },
  {
   "cell_type": "code",
   "execution_count": null,
   "metadata": {},
   "outputs": [],
   "source": []
  },
  {
   "cell_type": "code",
   "execution_count": null,
   "metadata": {},
   "outputs": [],
   "source": []
  },
  {
   "cell_type": "code",
   "execution_count": null,
   "metadata": {},
   "outputs": [],
   "source": []
  },
  {
   "cell_type": "code",
   "execution_count": 142,
   "metadata": {},
   "outputs": [
    {
     "data": {
      "text/plain": [
       "\"\\nresult = {}\\nfor file in FILES:\\n    print(file)\\n    for file, record in records.items():\\n        tmp = []\\n        valid = True\\n        for idx, line in enumerate(record['data']):\\n            x = LINE_EXP.fullmatch(line)\\n            if not x:\\n                tmp.append(idx)\\n                valid = False\\n        if not valid:\\n            result[file] = tmp\\n\""
      ]
     },
     "execution_count": 142,
     "metadata": {},
     "output_type": "execute_result"
    }
   ],
   "source": [
    "'''\n",
    "result = {}\n",
    "for file in FILES:\n",
    "    print(file)\n",
    "    for file, record in records.items():\n",
    "        tmp = []\n",
    "        valid = True\n",
    "        for idx, line in enumerate(record['data']):\n",
    "            x = LINE_EXP.fullmatch(line)\n",
    "            if not x:\n",
    "                tmp.append(idx)\n",
    "                valid = False\n",
    "        if not valid:\n",
    "            result[file] = tmp\n",
    "'''\n"
   ]
  },
  {
   "cell_type": "code",
   "execution_count": null,
   "metadata": {},
   "outputs": [],
   "source": []
  }
 ],
 "metadata": {
  "kernelspec": {
   "display_name": "Python 3",
   "language": "python",
   "name": "python3"
  },
  "language_info": {
   "codemirror_mode": {
    "name": "ipython",
    "version": 3
   },
   "file_extension": ".py",
   "mimetype": "text/x-python",
   "name": "python",
   "nbconvert_exporter": "python",
   "pygments_lexer": "ipython3",
   "version": "3.7.7"
  }
 },
 "nbformat": 4,
 "nbformat_minor": 4
}
